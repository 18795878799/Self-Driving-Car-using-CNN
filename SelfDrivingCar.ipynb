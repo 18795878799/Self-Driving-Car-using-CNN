{
 "cells": [
  {
   "cell_type": "markdown",
   "metadata": {},
   "source": [
    "# Self Driving Car - CNN"
   ]
  },
  {
   "cell_type": "code",
   "execution_count": 2,
   "metadata": {},
   "outputs": [],
   "source": [
    "import warnings\n",
    "warnings.filterwarnings(\"ignore\")"
   ]
  },
  {
   "cell_type": "code",
   "execution_count": 3,
   "metadata": {},
   "outputs": [
    {
     "name": "stderr",
     "output_type": "stream",
     "text": [
      "Using TensorFlow backend.\n"
     ]
    }
   ],
   "source": [
    "# import necessary libraries\n",
    "import numpy as np\n",
    "from sklearn.model_selection import train_test_split\n",
    "from sklearn.utils import shuffle\n",
    "from keras.layers import Input, Dense, Activation, Flatten, Conv2D, Lambda\n",
    "from keras.layers import MaxPooling2D, Dropout,BatchNormalization\n",
    "from keras.utils import print_summary\n",
    "import tensorflow as tf\n",
    "from keras.models import Sequential\n",
    "from keras.callbacks import ModelCheckpoint\n",
    "import pickle\n",
    "from keras.optimizers import Adam\n",
    "import scipy.misc\n",
    "import cv2\n",
    "from subprocess import call\n",
    "import math\n",
    "from keras.callbacks import EarlyStopping\n",
    "from tqdm import tqdm_notebook as tqdm\n",
    "from itertools import islice\n",
    "from keras.models import load_model\n",
    "from ann_visualizer.visualize import ann_viz\n",
    "from keras.preprocessing.image import ImageDataGenerator"
   ]
  },
  {
   "cell_type": "code",
   "execution_count": 5,
   "metadata": {},
   "outputs": [],
   "source": [
    "# utility function to load data\n",
    "def load_data(start_pointer,end_pointer):\n",
    "    print('Loading Data Start...')\n",
    "    images=[]\n",
    "    labels=[]\n",
    "    xs=[]\n",
    "    ys=[]\n",
    "    with open(\"driving_dataset/data.txt\") as f:\n",
    "        for line in f:\n",
    "            ys.append(float(line.split()[1]) * scipy.pi / 180)\n",
    "            labels.append(\"driving_dataset/\" + line.split()[0])\n",
    "        print('No of image files:',len(ys))\n",
    "        print('No of labels appended:',len(labels))\n",
    "        ys=ys[start_pointer:end_pointer]\n",
    "        labels=labels[start_pointer:end_pointer]\n",
    "        print('Starting index of current batch:',start_pointer)\n",
    "        print('End index of current batch:',end_pointer)\n",
    "        print('No of image files for current batch:',len(ys))\n",
    "        for file in tqdm(labels):\n",
    "            image = cv2.imread(file) \n",
    "            image = cv2.resize(image,(200,66))\n",
    "            images.append(image)\n",
    "        images=np.array(images).astype('float32')\n",
    "        ys=np.array(ys).astype('float32')\n",
    "        print('Data loaded sucessfully.')\n",
    "        return images,ys\n",
    "    "
   ]
  },
  {
   "cell_type": "code",
   "execution_count": 9,
   "metadata": {},
   "outputs": [],
   "source": [
    "# configurations\n",
    "batch_size=100\n",
    "epochs=30\n",
    "dropout_rate=0.5"
   ]
  },
  {
   "cell_type": "code",
   "execution_count": 10,
   "metadata": {},
   "outputs": [],
   "source": [
    "# CNN architecture\n",
    "input_shape=(66,200,3)\n",
    "def run_model(lr_rate):\n",
    "    model=Sequential()\n",
    "    # conv layer1\n",
    "    model.add(Conv2D(32,kernel_size=(5, 5),activation='relu',input_shape=input_shape,padding='same'))\n",
    "    model.add(MaxPooling2D((2, 2), padding='valid'))\n",
    "    #conv layer2\n",
    "    model.add(Conv2D(64,kernel_size=(5,5),activation='relu'))\n",
    "    model.add(MaxPooling2D((2, 2), padding='valid'))\n",
    "    model.add(Dropout(0.4))\n",
    "    #conv layer3\n",
    "    model.add(BatchNormalization())\n",
    "    model.add(Conv2D(128,kernel_size=(5,5),activation='relu'))\n",
    "    model.add(Dropout(0.4))\n",
    "    #conv layer4\n",
    "    model.add(BatchNormalization())\n",
    "    model.add(Conv2D(128,kernel_size=(3,3),activation='relu'))\n",
    "    model.add(Dropout(0.4))\n",
    "    #conv layer5\n",
    "    model.add(BatchNormalization())\n",
    "    model.add(Conv2D(128,kernel_size=(3,3),activation='relu'))\n",
    "    model.add(MaxPooling2D((2, 2), padding='valid'))\n",
    "    model.add(Dropout(0.4))\n",
    "    #Flatten\n",
    "    model.add(Flatten())\n",
    "    model.add(Dropout(0.4))\n",
    "    # Densly connected layers\n",
    "    model.add(Dense(128))\n",
    "    model.add(Dense(64))\n",
    "    # output layer\n",
    "    model.add(Dense(1))\n",
    "    model.compile(optimizer=Adam(lr=lr_rate), loss=\"mse\")\n",
    "    filepath = \"DriverModel.h5\"\n",
    "    es=EarlyStopping(monitor='val_loss', min_delta=0, patience=0, verbose=0, mode='auto', baseline=None, restore_best_weights=True)\n",
    "    #checkpoint1 = ModelCheckpoint(filepath, verbose=1, save_best_only=True)\n",
    "    callbacks_list = [es]\n",
    "    print(model.summary())\n",
    "    return model, callbacks_list\n",
    "  \n",
    "      "
   ]
  },
  {
   "cell_type": "code",
   "execution_count": 11,
   "metadata": {},
   "outputs": [],
   "source": [
    "def get_data_iterator(x,y,batch_size=batch_size):\n",
    "    train_x, test_x, train_y, test_y = train_test_split(x, y, random_state=0,\n",
    "                                                        test_size=0.2)\n",
    "    train_datagen=ImageDataGenerator(featurewise_std_normalization=True)\n",
    "    train_datagen.fit(train_x)\n",
    "    validation_datagen=ImageDataGenerator(featurewise_std_normalization=True)\n",
    "    validation_datagen.fit(test_x)\n",
    "    train_itr=train_datagen.flow(train_x,train_y,batch_size=batch_size)\n",
    "    validation_itr=validation_datagen.flow(test_x,test_y,batch_size=batch_size)\n",
    "    return train_itr,validation_itr"
   ]
  },
  {
   "cell_type": "code",
   "execution_count": 31,
   "metadata": {},
   "outputs": [
    {
     "name": "stdout",
     "output_type": "stream",
     "text": [
      "_________________________________________________________________\n",
      "Layer (type)                 Output Shape              Param #   \n",
      "=================================================================\n",
      "conv2d_1 (Conv2D)            (None, 66, 200, 32)       2432      \n",
      "_________________________________________________________________\n",
      "max_pooling2d_1 (MaxPooling2 (None, 33, 100, 32)       0         \n",
      "_________________________________________________________________\n",
      "conv2d_2 (Conv2D)            (None, 29, 96, 64)        51264     \n",
      "_________________________________________________________________\n",
      "max_pooling2d_2 (MaxPooling2 (None, 14, 48, 64)        0         \n",
      "_________________________________________________________________\n",
      "dropout_1 (Dropout)          (None, 14, 48, 64)        0         \n",
      "_________________________________________________________________\n",
      "batch_normalization_1 (Batch (None, 14, 48, 64)        256       \n",
      "_________________________________________________________________\n",
      "conv2d_3 (Conv2D)            (None, 10, 44, 128)       204928    \n",
      "_________________________________________________________________\n",
      "dropout_2 (Dropout)          (None, 10, 44, 128)       0         \n",
      "_________________________________________________________________\n",
      "batch_normalization_2 (Batch (None, 10, 44, 128)       512       \n",
      "_________________________________________________________________\n",
      "conv2d_4 (Conv2D)            (None, 8, 42, 128)        147584    \n",
      "_________________________________________________________________\n",
      "dropout_3 (Dropout)          (None, 8, 42, 128)        0         \n",
      "_________________________________________________________________\n",
      "batch_normalization_3 (Batch (None, 8, 42, 128)        512       \n",
      "_________________________________________________________________\n",
      "conv2d_5 (Conv2D)            (None, 6, 40, 128)        147584    \n",
      "_________________________________________________________________\n",
      "max_pooling2d_3 (MaxPooling2 (None, 3, 20, 128)        0         \n",
      "_________________________________________________________________\n",
      "dropout_4 (Dropout)          (None, 3, 20, 128)        0         \n",
      "_________________________________________________________________\n",
      "flatten_1 (Flatten)          (None, 7680)              0         \n",
      "_________________________________________________________________\n",
      "dropout_5 (Dropout)          (None, 7680)              0         \n",
      "_________________________________________________________________\n",
      "dense_1 (Dense)              (None, 128)               983168    \n",
      "_________________________________________________________________\n",
      "dense_2 (Dense)              (None, 64)                8256      \n",
      "_________________________________________________________________\n",
      "dense_3 (Dense)              (None, 1)                 65        \n",
      "=================================================================\n",
      "Total params: 1,546,561\n",
      "Trainable params: 1,545,921\n",
      "Non-trainable params: 640\n",
      "_________________________________________________________________\n",
      "None\n"
     ]
    }
   ],
   "source": [
    "model,callbacks=run_model(lr_rate=0.0001)\n"
   ]
  },
  {
   "cell_type": "markdown",
   "metadata": {},
   "source": [
    "### Loading data from 0-10000:"
   ]
  },
  {
   "cell_type": "code",
   "execution_count": 37,
   "metadata": {},
   "outputs": [
    {
     "name": "stdout",
     "output_type": "stream",
     "text": [
      "Loading Data Start...\n",
      "No of image files: 45406\n",
      "No of labels appended: 45406\n",
      "Starting index of current batch: 0\n",
      "End index of current batch: 10000\n",
      "No of image files for current batch: 10000\n"
     ]
    },
    {
     "data": {
      "application/vnd.jupyter.widget-view+json": {
       "model_id": "0362821769f34193a6b8792365ad21c5",
       "version_major": 2,
       "version_minor": 0
      },
      "text/plain": [
       "HBox(children=(IntProgress(value=0, max=10000), HTML(value='')))"
      ]
     },
     "metadata": {},
     "output_type": "display_data"
    },
    {
     "name": "stdout",
     "output_type": "stream",
     "text": [
      "\n",
      "Data loaded sucessfully.\n"
     ]
    }
   ],
   "source": [
    "x,y=load_data(0,10000)"
   ]
  },
  {
   "cell_type": "code",
   "execution_count": 38,
   "metadata": {},
   "outputs": [],
   "source": [
    "train_x, test_x, train_y, test_y = train_test_split(x, y, random_state=0,\n",
    "                                                        test_size=0.2)"
   ]
  },
  {
   "cell_type": "markdown",
   "metadata": {},
   "source": [
    "#### Epoch 1 to 5:"
   ]
  },
  {
   "cell_type": "code",
   "execution_count": 40,
   "metadata": {
    "scrolled": true
   },
   "outputs": [
    {
     "name": "stdout",
     "output_type": "stream",
     "text": [
      "Train on 8000 samples, validate on 2000 samples\n",
      "Epoch 1/5\n",
      "8000/8000 [==============================] - ETA: 16:24 - loss: 15.611 - ETA: 14:20 - loss: 18.876 - ETA: 13:32 - loss: 25.188 - ETA: 13:00 - loss: 23.928 - ETA: 12:39 - loss: 22.915 - ETA: 12:22 - loss: 23.008 - ETA: 12:08 - loss: 21.213 - ETA: 11:53 - loss: 20.407 - ETA: 11:41 - loss: 21.076 - ETA: 11:28 - loss: 20.682 - ETA: 11:16 - loss: 20.293 - ETA: 11:05 - loss: 20.050 - ETA: 10:54 - loss: 19.534 - ETA: 10:43 - loss: 19.148 - ETA: 10:33 - loss: 19.011 - ETA: 10:22 - loss: 18.755 - ETA: 10:12 - loss: 18.451 - ETA: 10:01 - loss: 18.271 - ETA: 9:51 - loss: 18.024 - ETA: 9:41 - loss: 17.74 - ETA: 9:31 - loss: 17.44 - ETA: 9:20 - loss: 17.51 - ETA: 9:10 - loss: 17.33 - ETA: 9:00 - loss: 17.06 - ETA: 8:50 - loss: 17.09 - ETA: 8:40 - loss: 16.99 - ETA: 8:30 - loss: 16.83 - ETA: 8:21 - loss: 16.77 - ETA: 8:11 - loss: 16.66 - ETA: 8:01 - loss: 16.55 - ETA: 7:52 - loss: 16.42 - ETA: 7:42 - loss: 16.34 - ETA: 7:33 - loss: 16.23 - ETA: 7:23 - loss: 16.19 - ETA: 7:13 - loss: 16.26 - ETA: 7:03 - loss: 16.08 - ETA: 6:54 - loss: 15.89 - ETA: 6:44 - loss: 15.78 - ETA: 6:34 - loss: 15.69 - ETA: 6:24 - loss: 15.62 - ETA: 6:15 - loss: 15.50 - ETA: 6:05 - loss: 15.43 - ETA: 5:55 - loss: 15.32 - ETA: 5:46 - loss: 15.23 - ETA: 5:37 - loss: 15.11 - ETA: 5:27 - loss: 15.06 - ETA: 5:17 - loss: 15.00 - ETA: 5:07 - loss: 14.95 - ETA: 4:58 - loss: 14.84 - ETA: 4:48 - loss: 14.81 - ETA: 4:38 - loss: 14.74 - ETA: 4:29 - loss: 14.65 - ETA: 4:19 - loss: 14.59 - ETA: 4:09 - loss: 14.51 - ETA: 4:00 - loss: 14.40 - ETA: 3:50 - loss: 14.26 - ETA: 3:40 - loss: 14.15 - ETA: 3:31 - loss: 14.05 - ETA: 3:21 - loss: 13.98 - ETA: 3:12 - loss: 13.86 - ETA: 3:02 - loss: 13.76 - ETA: 2:52 - loss: 13.67 - ETA: 2:43 - loss: 13.58 - ETA: 2:33 - loss: 13.50 - ETA: 2:24 - loss: 13.41 - ETA: 2:14 - loss: 13.33 - ETA: 2:04 - loss: 13.26 - ETA: 1:55 - loss: 13.21 - ETA: 1:45 - loss: 13.14 - ETA: 1:35 - loss: 13.08 - ETA: 1:26 - loss: 13.00 - ETA: 1:16 - loss: 12.97 - ETA: 1:07 - loss: 12.91 - ETA: 57s - loss: 12.8565 - ETA: 47s - loss: 12.793 - ETA: 38s - loss: 12.728 - ETA: 28s - loss: 12.692 - ETA: 19s - loss: 12.628 - ETA: 9s - loss: 12.567 - 829s 104ms/step - loss: 12.5169 - val_loss: 0.6648\n",
      "Epoch 2/5\n",
      "8000/8000 [==============================] - ETA: 12:28 - loss: 8.64 - ETA: 12:23 - loss: 7.74 - ETA: 12:13 - loss: 7.37 - ETA: 12:04 - loss: 7.57 - ETA: 11:57 - loss: 7.74 - ETA: 11:49 - loss: 7.69 - ETA: 11:44 - loss: 7.50 - ETA: 11:35 - loss: 7.42 - ETA: 11:24 - loss: 7.16 - ETA: 11:13 - loss: 7.30 - ETA: 11:03 - loss: 7.18 - ETA: 10:53 - loss: 7.27 - ETA: 10:44 - loss: 7.30 - ETA: 10:34 - loss: 7.24 - ETA: 10:24 - loss: 7.12 - ETA: 10:14 - loss: 7.05 - ETA: 10:04 - loss: 7.06 - ETA: 9:54 - loss: 7.0006 - ETA: 9:45 - loss: 7.003 - ETA: 9:35 - loss: 7.056 - ETA: 9:25 - loss: 6.980 - ETA: 9:16 - loss: 6.971 - ETA: 9:06 - loss: 6.879 - ETA: 8:56 - loss: 6.826 - ETA: 8:46 - loss: 6.809 - ETA: 8:36 - loss: 6.733 - ETA: 8:27 - loss: 6.743 - ETA: 8:17 - loss: 6.673 - ETA: 8:08 - loss: 6.721 - ETA: 7:58 - loss: 6.682 - ETA: 7:49 - loss: 6.624 - ETA: 7:39 - loss: 6.582 - ETA: 7:30 - loss: 6.544 - ETA: 7:21 - loss: 6.548 - ETA: 7:11 - loss: 6.494 - ETA: 7:01 - loss: 6.499 - ETA: 6:52 - loss: 6.448 - ETA: 6:42 - loss: 6.409 - ETA: 6:32 - loss: 6.370 - ETA: 6:23 - loss: 6.339 - ETA: 6:13 - loss: 6.325 - ETA: 6:03 - loss: 6.274 - ETA: 5:54 - loss: 6.257 - ETA: 5:44 - loss: 6.246 - ETA: 5:35 - loss: 6.225 - ETA: 5:25 - loss: 6.179 - ETA: 5:16 - loss: 6.177 - ETA: 5:06 - loss: 6.145 - ETA: 4:56 - loss: 6.093 - ETA: 4:47 - loss: 6.048 - ETA: 4:37 - loss: 6.013 - ETA: 4:28 - loss: 5.997 - ETA: 4:18 - loss: 5.966 - ETA: 4:08 - loss: 5.936 - ETA: 3:59 - loss: 5.944 - ETA: 3:49 - loss: 5.924 - ETA: 3:39 - loss: 5.891 - ETA: 3:30 - loss: 5.861 - ETA: 3:20 - loss: 5.890 - ETA: 3:11 - loss: 5.857 - ETA: 3:01 - loss: 5.825 - ETA: 2:52 - loss: 5.801 - ETA: 2:42 - loss: 5.796 - ETA: 2:33 - loss: 5.820 - ETA: 2:23 - loss: 5.785 - ETA: 2:13 - loss: 5.765 - ETA: 2:04 - loss: 5.746 - ETA: 1:54 - loss: 5.734 - ETA: 1:45 - loss: 5.725 - ETA: 1:35 - loss: 5.716 - ETA: 1:26 - loss: 5.694 - ETA: 1:16 - loss: 5.680 - ETA: 1:06 - loss: 5.669 - ETA: 57s - loss: 5.661 - ETA: 47s - loss: 5.64 - ETA: 38s - loss: 5.61 - ETA: 28s - loss: 5.60 - ETA: 19s - loss: 5.57 - ETA: 9s - loss: 5.5508 - 825s 103ms/step - loss: 5.5359 - val_loss: 0.5305\n",
      "Epoch 3/5\n",
      "8000/8000 [==============================] - ETA: 12:42 - loss: 3.80 - ETA: 12:27 - loss: 3.78 - ETA: 12:16 - loss: 3.77 - ETA: 12:05 - loss: 3.78 - ETA: 12:04 - loss: 3.89 - ETA: 11:53 - loss: 3.77 - ETA: 11:42 - loss: 3.72 - ETA: 11:31 - loss: 3.71 - ETA: 11:21 - loss: 3.76 - ETA: 11:12 - loss: 3.76 - ETA: 11:03 - loss: 3.77 - ETA: 10:53 - loss: 3.90 - ETA: 10:44 - loss: 3.85 - ETA: 10:34 - loss: 3.98 - ETA: 10:24 - loss: 3.91 - ETA: 10:14 - loss: 3.95 - ETA: 10:05 - loss: 3.93 - ETA: 9:55 - loss: 3.9278 - ETA: 9:46 - loss: 3.881 - ETA: 9:36 - loss: 3.927 - ETA: 9:26 - loss: 3.866 - ETA: 9:17 - loss: 3.872 - ETA: 9:07 - loss: 3.829 - ETA: 8:57 - loss: 3.797 - ETA: 8:48 - loss: 3.781 - ETA: 8:38 - loss: 3.729 - ETA: 8:28 - loss: 3.729 - ETA: 8:19 - loss: 3.690 - ETA: 8:09 - loss: 3.685 - ETA: 7:59 - loss: 3.693 - ETA: 7:49 - loss: 3.688 - ETA: 7:40 - loss: 3.666 - ETA: 7:30 - loss: 3.626 - ETA: 7:20 - loss: 3.611 - ETA: 7:11 - loss: 3.584 - ETA: 7:01 - loss: 3.575 - ETA: 6:51 - loss: 3.554 - ETA: 6:42 - loss: 3.543 - ETA: 6:32 - loss: 3.546 - ETA: 6:22 - loss: 3.534 - ETA: 6:13 - loss: 3.526 - ETA: 6:03 - loss: 3.498 - ETA: 5:54 - loss: 3.484 - ETA: 5:44 - loss: 3.464 - ETA: 5:34 - loss: 3.449 - ETA: 5:25 - loss: 3.448 - ETA: 5:15 - loss: 3.430 - ETA: 5:06 - loss: 3.406 - ETA: 4:56 - loss: 3.392 - ETA: 4:46 - loss: 3.383 - ETA: 4:37 - loss: 3.368 - ETA: 4:27 - loss: 3.354 - ETA: 4:18 - loss: 3.348 - ETA: 4:08 - loss: 3.330 - ETA: 3:59 - loss: 3.325 - ETA: 3:49 - loss: 3.305 - ETA: 3:39 - loss: 3.287 - ETA: 3:30 - loss: 3.270 - ETA: 3:20 - loss: 3.247 - ETA: 3:11 - loss: 3.245 - ETA: 3:01 - loss: 3.231 - ETA: 2:52 - loss: 3.213 - ETA: 2:42 - loss: 3.201 - ETA: 2:32 - loss: 3.190 - ETA: 2:23 - loss: 3.184 - ETA: 2:13 - loss: 3.169 - ETA: 2:04 - loss: 3.159 - ETA: 1:54 - loss: 3.150 - ETA: 1:45 - loss: 3.134 - ETA: 1:35 - loss: 3.125 - ETA: 1:25 - loss: 3.109 - ETA: 1:16 - loss: 3.096 - ETA: 1:06 - loss: 3.084 - ETA: 57s - loss: 3.087 - ETA: 47s - loss: 3.07 - ETA: 38s - loss: 3.08 - ETA: 28s - loss: 3.07 - ETA: 19s - loss: 3.08 - ETA: 9s - loss: 3.0817 - 825s 103ms/step - loss: 3.0789 - val_loss: 0.5037\n",
      "Epoch 4/5\n",
      "8000/8000 [==============================] - ETA: 12:40 - loss: 1.98 - ETA: 12:24 - loss: 2.27 - ETA: 12:15 - loss: 2.36 - ETA: 12:04 - loss: 2.23 - ETA: 11:56 - loss: 2.39 - ETA: 11:48 - loss: 2.42 - ETA: 11:37 - loss: 2.45 - ETA: 11:28 - loss: 2.37 - ETA: 11:18 - loss: 2.31 - ETA: 11:09 - loss: 2.25 - ETA: 11:01 - loss: 2.28 - ETA: 10:52 - loss: 2.23 - ETA: 10:42 - loss: 2.22 - ETA: 10:33 - loss: 2.23 - ETA: 10:23 - loss: 2.22 - ETA: 10:13 - loss: 2.21 - ETA: 10:04 - loss: 2.17 - ETA: 9:54 - loss: 2.2041 - ETA: 9:45 - loss: 2.213 - ETA: 9:35 - loss: 2.195 - ETA: 9:25 - loss: 2.190 - ETA: 9:16 - loss: 2.199 - ETA: 9:06 - loss: 2.221 - ETA: 8:56 - loss: 2.192 - ETA: 8:47 - loss: 2.213 - ETA: 8:37 - loss: 2.207 - ETA: 8:27 - loss: 2.191 - ETA: 8:18 - loss: 2.191 - ETA: 8:08 - loss: 2.209 - ETA: 7:58 - loss: 2.214 - ETA: 7:49 - loss: 2.206 - ETA: 7:39 - loss: 2.215 - ETA: 7:29 - loss: 2.199 - ETA: 7:20 - loss: 2.186 - ETA: 7:10 - loss: 2.175 - ETA: 7:00 - loss: 2.161 - ETA: 6:51 - loss: 2.165 - ETA: 6:41 - loss: 2.157 - ETA: 6:32 - loss: 2.140 - ETA: 6:22 - loss: 2.136 - ETA: 6:12 - loss: 2.127 - ETA: 6:03 - loss: 2.121 - ETA: 5:53 - loss: 2.108 - ETA: 5:44 - loss: 2.102 - ETA: 5:34 - loss: 2.096 - ETA: 5:24 - loss: 2.098 - ETA: 5:15 - loss: 2.093 - ETA: 5:05 - loss: 2.084 - ETA: 4:56 - loss: 2.071 - ETA: 4:46 - loss: 2.068 - ETA: 4:37 - loss: 2.056 - ETA: 4:27 - loss: 2.052 - ETA: 4:17 - loss: 2.069 - ETA: 4:08 - loss: 2.063 - ETA: 3:58 - loss: 2.050 - ETA: 3:49 - loss: 2.043 - ETA: 3:39 - loss: 2.053 - ETA: 3:29 - loss: 2.047 - ETA: 3:20 - loss: 2.052 - ETA: 3:10 - loss: 2.044 - ETA: 3:01 - loss: 2.033 - ETA: 2:51 - loss: 2.040 - ETA: 2:42 - loss: 2.054 - ETA: 2:32 - loss: 2.052 - ETA: 2:23 - loss: 2.049 - ETA: 2:13 - loss: 2.041 - ETA: 2:04 - loss: 2.027 - ETA: 1:54 - loss: 2.017 - ETA: 1:44 - loss: 2.004 - ETA: 1:35 - loss: 1.997 - ETA: 1:25 - loss: 1.993 - ETA: 1:16 - loss: 1.990 - ETA: 1:06 - loss: 1.989 - ETA: 57s - loss: 1.981 - ETA: 47s - loss: 1.97 - ETA: 38s - loss: 1.97 - ETA: 28s - loss: 1.97 - ETA: 19s - loss: 1.97 - ETA: 9s - loss: 1.9612 - 824s 103ms/step - loss: 1.9544 - val_loss: 0.5520\n",
      "Epoch 5/5\n",
      "8000/8000 [==============================] - ETA: 12:29 - loss: 1.57 - ETA: 12:27 - loss: 1.39 - ETA: 12:15 - loss: 1.36 - ETA: 12:05 - loss: 1.32 - ETA: 11:55 - loss: 1.31 - ETA: 11:46 - loss: 1.39 - ETA: 11:38 - loss: 1.40 - ETA: 11:29 - loss: 1.49 - ETA: 11:18 - loss: 1.54 - ETA: 11:08 - loss: 1.55 - ETA: 10:58 - loss: 1.52 - ETA: 10:49 - loss: 1.50 - ETA: 10:40 - loss: 1.47 - ETA: 10:30 - loss: 1.45 - ETA: 10:20 - loss: 1.45 - ETA: 10:10 - loss: 1.45 - ETA: 10:00 - loss: 1.44 - ETA: 9:51 - loss: 1.4333 - ETA: 9:41 - loss: 1.443 - ETA: 9:31 - loss: 1.425 - ETA: 9:22 - loss: 1.423 - ETA: 9:12 - loss: 1.415 - ETA: 9:02 - loss: 1.414 - ETA: 8:53 - loss: 1.415 - ETA: 8:43 - loss: 1.410 - ETA: 8:34 - loss: 1.409 - ETA: 8:24 - loss: 1.419 - ETA: 8:14 - loss: 1.425 - ETA: 8:05 - loss: 1.420 - ETA: 7:55 - loss: 1.406 - ETA: 7:46 - loss: 1.397 - ETA: 7:37 - loss: 1.387 - ETA: 7:27 - loss: 1.383 - ETA: 7:18 - loss: 1.374 - ETA: 7:08 - loss: 1.383 - ETA: 6:59 - loss: 1.387 - ETA: 6:49 - loss: 1.389 - ETA: 6:40 - loss: 1.404 - ETA: 6:30 - loss: 1.400 - ETA: 6:21 - loss: 1.393 - ETA: 6:11 - loss: 1.388 - ETA: 6:02 - loss: 1.380 - ETA: 5:52 - loss: 1.375 - ETA: 5:43 - loss: 1.369 - ETA: 5:33 - loss: 1.365 - ETA: 5:23 - loss: 1.359 - ETA: 5:14 - loss: 1.351 - ETA: 5:04 - loss: 1.360 - ETA: 4:55 - loss: 1.368 - ETA: 4:45 - loss: 1.361 - ETA: 4:36 - loss: 1.356 - ETA: 4:26 - loss: 1.352 - ETA: 4:17 - loss: 1.352 - ETA: 4:07 - loss: 1.356 - ETA: 3:58 - loss: 1.348 - ETA: 3:48 - loss: 1.344 - ETA: 3:38 - loss: 1.342 - ETA: 3:29 - loss: 1.346 - ETA: 3:19 - loss: 1.342 - ETA: 3:10 - loss: 1.337 - ETA: 3:00 - loss: 1.337 - ETA: 2:51 - loss: 1.335 - ETA: 2:41 - loss: 1.331 - ETA: 2:32 - loss: 1.325 - ETA: 2:22 - loss: 1.332 - ETA: 2:13 - loss: 1.329 - ETA: 2:03 - loss: 1.321 - ETA: 1:54 - loss: 1.326 - ETA: 1:44 - loss: 1.326 - ETA: 1:35 - loss: 1.325 - ETA: 1:25 - loss: 1.325 - ETA: 1:16 - loss: 1.327 - ETA: 1:06 - loss: 1.334 - ETA: 57s - loss: 1.327 - ETA: 47s - loss: 1.32 - ETA: 38s - loss: 1.31 - ETA: 28s - loss: 1.31 - ETA: 19s - loss: 1.30 - ETA: 9s - loss: 1.3002 - 823s 103ms/step - loss: 1.3093 - val_loss: 0.5632\n"
     ]
    },
    {
     "data": {
      "text/plain": [
       "<keras.callbacks.History at 0x1ed8118a860>"
      ]
     },
     "execution_count": 40,
     "metadata": {},
     "output_type": "execute_result"
    }
   ],
   "source": [
    "es=EarlyStopping(monitor='val_loss', min_delta=0, patience=10, verbose=0, mode='auto', baseline=None, restore_best_weights=True)\n",
    "model.fit(train_x,train_y,validation_data=[test_x,test_y],epochs=5,batch_size=batch_size,callbacks=[es])"
   ]
  },
  {
   "cell_type": "markdown",
   "metadata": {},
   "source": [
    "#### Epoch 6 to 16:"
   ]
  },
  {
   "cell_type": "code",
   "execution_count": 46,
   "metadata": {},
   "outputs": [
    {
     "name": "stdout",
     "output_type": "stream",
     "text": [
      "Train on 8000 samples, validate on 2000 samples\n",
      "Epoch 1/10\n",
      "8000/8000 [==============================] - ETA: 7:07 - loss: 1.312 - ETA: 6:57 - loss: 1.207 - ETA: 6:58 - loss: 1.139 - ETA: 7:00 - loss: 1.117 - ETA: 7:02 - loss: 1.044 - ETA: 7:02 - loss: 1.132 - ETA: 7:02 - loss: 1.143 - ETA: 7:00 - loss: 1.130 - ETA: 7:02 - loss: 1.080 - ETA: 6:59 - loss: 1.073 - ETA: 7:01 - loss: 1.076 - ETA: 7:08 - loss: 1.049 - ETA: 7:14 - loss: 1.039 - ETA: 7:23 - loss: 1.051 - ETA: 7:28 - loss: 1.045 - ETA: 7:26 - loss: 1.064 - ETA: 7:23 - loss: 1.134 - ETA: 7:16 - loss: 1.117 - ETA: 7:08 - loss: 1.121 - ETA: 7:00 - loss: 1.113 - ETA: 6:53 - loss: 1.158 - ETA: 6:45 - loss: 1.162 - ETA: 6:38 - loss: 1.174 - ETA: 6:31 - loss: 1.188 - ETA: 6:23 - loss: 1.175 - ETA: 6:16 - loss: 1.179 - ETA: 6:09 - loss: 1.178 - ETA: 6:02 - loss: 1.156 - ETA: 5:54 - loss: 1.155 - ETA: 5:47 - loss: 1.145 - ETA: 5:40 - loss: 1.147 - ETA: 5:33 - loss: 1.147 - ETA: 5:26 - loss: 1.138 - ETA: 5:19 - loss: 1.151 - ETA: 5:12 - loss: 1.145 - ETA: 5:05 - loss: 1.137 - ETA: 4:59 - loss: 1.133 - ETA: 4:52 - loss: 1.123 - ETA: 4:45 - loss: 1.140 - ETA: 4:38 - loss: 1.129 - ETA: 4:31 - loss: 1.133 - ETA: 4:24 - loss: 1.134 - ETA: 4:17 - loss: 1.119 - ETA: 4:10 - loss: 1.132 - ETA: 4:03 - loss: 1.128 - ETA: 3:56 - loss: 1.124 - ETA: 3:49 - loss: 1.114 - ETA: 3:43 - loss: 1.105 - ETA: 3:36 - loss: 1.116 - ETA: 3:29 - loss: 1.111 - ETA: 3:22 - loss: 1.104 - ETA: 3:15 - loss: 1.115 - ETA: 3:08 - loss: 1.107 - ETA: 3:01 - loss: 1.102 - ETA: 2:54 - loss: 1.101 - ETA: 2:47 - loss: 1.093 - ETA: 2:40 - loss: 1.088 - ETA: 2:33 - loss: 1.082 - ETA: 2:26 - loss: 1.081 - ETA: 2:19 - loss: 1.079 - ETA: 2:12 - loss: 1.084 - ETA: 2:05 - loss: 1.081 - ETA: 1:58 - loss: 1.079 - ETA: 1:51 - loss: 1.075 - ETA: 1:44 - loss: 1.080 - ETA: 1:37 - loss: 1.080 - ETA: 1:30 - loss: 1.078 - ETA: 1:23 - loss: 1.071 - ETA: 1:16 - loss: 1.065 - ETA: 1:09 - loss: 1.061 - ETA: 1:02 - loss: 1.056 - ETA: 55s - loss: 1.051 - ETA: 48s - loss: 1.04 - ETA: 41s - loss: 1.04 - ETA: 34s - loss: 1.04 - ETA: 27s - loss: 1.04 - ETA: 20s - loss: 1.04 - ETA: 13s - loss: 1.03 - ETA: 6s - loss: 1.0358 - 600s 75ms/step - loss: 1.0380 - val_loss: 0.5377\n",
      "Epoch 2/10\n",
      "8000/8000 [==============================] - ETA: 9:06 - loss: 1.353 - ETA: 9:12 - loss: 1.001 - ETA: 9:18 - loss: 0.993 - ETA: 9:04 - loss: 0.950 - ETA: 8:53 - loss: 0.966 - ETA: 8:41 - loss: 0.985 - ETA: 8:32 - loss: 0.933 - ETA: 8:24 - loss: 1.008 - ETA: 8:16 - loss: 0.995 - ETA: 8:08 - loss: 1.074 - ETA: 8:01 - loss: 1.048 - ETA: 7:53 - loss: 1.040 - ETA: 7:46 - loss: 1.015 - ETA: 7:39 - loss: 1.013 - ETA: 7:32 - loss: 1.004 - ETA: 7:25 - loss: 0.992 - ETA: 7:17 - loss: 0.981 - ETA: 7:09 - loss: 0.967 - ETA: 7:02 - loss: 0.973 - ETA: 6:55 - loss: 0.981 - ETA: 6:48 - loss: 0.966 - ETA: 6:41 - loss: 0.966 - ETA: 6:34 - loss: 0.956 - ETA: 6:27 - loss: 0.946 - ETA: 6:20 - loss: 1.004 - ETA: 6:13 - loss: 0.994 - ETA: 6:06 - loss: 0.988 - ETA: 5:59 - loss: 0.978 - ETA: 5:52 - loss: 0.988 - ETA: 5:45 - loss: 0.991 - ETA: 5:38 - loss: 0.984 - ETA: 5:31 - loss: 0.972 - ETA: 5:24 - loss: 0.959 - ETA: 5:17 - loss: 0.973 - ETA: 5:10 - loss: 0.980 - ETA: 5:03 - loss: 0.972 - ETA: 4:56 - loss: 0.966 - ETA: 4:50 - loss: 0.962 - ETA: 4:43 - loss: 0.952 - ETA: 4:36 - loss: 0.941 - ETA: 4:29 - loss: 0.939 - ETA: 4:22 - loss: 0.936 - ETA: 4:15 - loss: 0.931 - ETA: 4:08 - loss: 0.930 - ETA: 4:01 - loss: 0.922 - ETA: 3:54 - loss: 0.928 - ETA: 3:47 - loss: 0.925 - ETA: 3:40 - loss: 0.927 - ETA: 3:34 - loss: 0.941 - ETA: 3:27 - loss: 0.937 - ETA: 3:20 - loss: 0.942 - ETA: 3:13 - loss: 0.942 - ETA: 3:06 - loss: 0.940 - ETA: 2:59 - loss: 0.939 - ETA: 2:52 - loss: 0.934 - ETA: 2:45 - loss: 0.928 - ETA: 2:38 - loss: 0.924 - ETA: 2:31 - loss: 0.919 - ETA: 2:24 - loss: 0.913 - ETA: 2:17 - loss: 0.910 - ETA: 2:11 - loss: 0.906 - ETA: 2:04 - loss: 0.899 - ETA: 1:57 - loss: 0.899 - ETA: 1:50 - loss: 0.896 - ETA: 1:43 - loss: 0.893 - ETA: 1:36 - loss: 0.902 - ETA: 1:29 - loss: 0.909 - ETA: 1:22 - loss: 0.902 - ETA: 1:15 - loss: 0.899 - ETA: 1:08 - loss: 0.897 - ETA: 1:02 - loss: 0.892 - ETA: 55s - loss: 0.890 - ETA: 48s - loss: 0.89 - ETA: 41s - loss: 0.89 - ETA: 34s - loss: 0.88 - ETA: 27s - loss: 0.88 - ETA: 20s - loss: 0.87 - ETA: 13s - loss: 0.88 - ETA: 6s - loss: 0.8884 - 595s 74ms/step - loss: 0.8869 - val_loss: 0.4925\n",
      "Epoch 3/10\n",
      "8000/8000 [==============================] - ETA: 9:00 - loss: 0.685 - ETA: 9:09 - loss: 0.699 - ETA: 9:06 - loss: 0.726 - ETA: 9:17 - loss: 0.768 - ETA: 9:14 - loss: 0.763 - ETA: 9:02 - loss: 0.727 - ETA: 8:53 - loss: 0.743 - ETA: 8:46 - loss: 0.714 - ETA: 8:36 - loss: 0.687 - ETA: 8:26 - loss: 0.779 - ETA: 8:17 - loss: 0.855 - ETA: 8:08 - loss: 0.829 - ETA: 7:59 - loss: 0.815 - ETA: 7:51 - loss: 0.804 - ETA: 7:43 - loss: 0.819 - ETA: 7:36 - loss: 0.805 - ETA: 7:27 - loss: 0.787 - ETA: 7:19 - loss: 0.800 - ETA: 7:10 - loss: 0.785 - ETA: 7:02 - loss: 0.763 - ETA: 6:55 - loss: 0.752 - ETA: 6:48 - loss: 0.739 - ETA: 6:40 - loss: 0.732 - ETA: 6:33 - loss: 0.729 - ETA: 6:25 - loss: 0.728 - ETA: 6:18 - loss: 0.743 - ETA: 6:11 - loss: 0.733 - ETA: 6:04 - loss: 0.741 - ETA: 5:56 - loss: 0.736 - ETA: 5:49 - loss: 0.737 - ETA: 5:42 - loss: 0.738 - ETA: 5:35 - loss: 0.756 - ETA: 5:28 - loss: 0.778 - ETA: 5:21 - loss: 0.781 - ETA: 5:13 - loss: 0.781 - ETA: 5:06 - loss: 0.776 - ETA: 4:59 - loss: 0.787 - ETA: 4:52 - loss: 0.791 - ETA: 4:45 - loss: 0.793 - ETA: 4:38 - loss: 0.818 - ETA: 4:30 - loss: 0.809 - ETA: 4:23 - loss: 0.816 - ETA: 4:16 - loss: 0.823 - ETA: 4:09 - loss: 0.830 - ETA: 4:02 - loss: 0.828 - ETA: 3:55 - loss: 0.820 - ETA: 3:48 - loss: 0.813 - ETA: 3:41 - loss: 0.812 - ETA: 3:34 - loss: 0.804 - ETA: 3:27 - loss: 0.805 - ETA: 3:20 - loss: 0.816 - ETA: 3:13 - loss: 0.814 - ETA: 3:07 - loss: 0.812 - ETA: 3:00 - loss: 0.813 - ETA: 2:53 - loss: 0.809 - ETA: 2:46 - loss: 0.808 - ETA: 2:39 - loss: 0.802 - ETA: 2:32 - loss: 0.798 - ETA: 2:25 - loss: 0.797 - ETA: 2:18 - loss: 0.800 - ETA: 2:11 - loss: 0.802 - ETA: 2:04 - loss: 0.803 - ETA: 1:57 - loss: 0.801 - ETA: 1:51 - loss: 0.802 - ETA: 1:44 - loss: 0.799 - ETA: 1:37 - loss: 0.794 - ETA: 1:30 - loss: 0.796 - ETA: 1:23 - loss: 0.793 - ETA: 1:16 - loss: 0.793 - ETA: 1:09 - loss: 0.787 - ETA: 1:02 - loss: 0.782 - ETA: 55s - loss: 0.775 - ETA: 48s - loss: 0.77 - ETA: 41s - loss: 0.77 - ETA: 34s - loss: 0.77 - ETA: 27s - loss: 0.77 - ETA: 20s - loss: 0.77 - ETA: 13s - loss: 0.77 - ETA: 6s - loss: 0.7703 - 600s 75ms/step - loss: 0.7671 - val_loss: 0.5440\n",
      "Epoch 4/10\n",
      "8000/8000 [==============================] - ETA: 9:40 - loss: 0.250 - ETA: 9:30 - loss: 0.470 - ETA: 9:44 - loss: 0.489 - ETA: 9:27 - loss: 0.493 - ETA: 9:11 - loss: 0.597 - ETA: 8:58 - loss: 0.620 - ETA: 8:48 - loss: 0.641 - ETA: 8:38 - loss: 0.627 - ETA: 8:29 - loss: 0.625 - ETA: 8:21 - loss: 0.760 - ETA: 8:13 - loss: 0.758 - ETA: 8:04 - loss: 0.747 - ETA: 7:58 - loss: 0.750 - ETA: 7:51 - loss: 0.730 - ETA: 7:45 - loss: 0.709 - ETA: 7:38 - loss: 0.719 - ETA: 7:31 - loss: 0.721 - ETA: 7:23 - loss: 0.718 - ETA: 7:16 - loss: 0.704 - ETA: 7:08 - loss: 0.686 - ETA: 7:00 - loss: 0.671 - ETA: 6:53 - loss: 0.662 - ETA: 6:45 - loss: 0.660 - ETA: 6:37 - loss: 0.703 - ETA: 6:30 - loss: 0.696 - ETA: 6:23 - loss: 0.688 - ETA: 6:15 - loss: 0.695 - ETA: 6:08 - loss: 0.689 - ETA: 6:01 - loss: 0.680 - ETA: 5:53 - loss: 0.685 - ETA: 5:46 - loss: 0.679 - ETA: 5:39 - loss: 0.687 - ETA: 5:32 - loss: 0.678 - ETA: 5:25 - loss: 0.674 - ETA: 5:17 - loss: 0.683 - ETA: 5:10 - loss: 0.678 - ETA: 5:03 - loss: 0.675 - ETA: 4:56 - loss: 0.694 - ETA: 4:49 - loss: 0.688 - ETA: 4:41 - loss: 0.683 - ETA: 4:34 - loss: 0.678 - ETA: 4:27 - loss: 0.701 - ETA: 4:20 - loss: 0.707 - ETA: 4:13 - loss: 0.699 - ETA: 4:06 - loss: 0.721 - ETA: 3:59 - loss: 0.722 - ETA: 3:52 - loss: 0.717 - ETA: 3:45 - loss: 0.714 - ETA: 3:38 - loss: 0.718 - ETA: 3:31 - loss: 0.715 - ETA: 3:24 - loss: 0.711 - ETA: 3:17 - loss: 0.715 - ETA: 3:10 - loss: 0.717 - ETA: 3:03 - loss: 0.725 - ETA: 2:56 - loss: 0.727 - ETA: 2:49 - loss: 0.725 - ETA: 2:41 - loss: 0.719 - ETA: 2:34 - loss: 0.716 - ETA: 2:27 - loss: 0.711 - ETA: 2:20 - loss: 0.713 - ETA: 2:13 - loss: 0.708 - ETA: 2:06 - loss: 0.715 - ETA: 1:59 - loss: 0.713 - ETA: 1:52 - loss: 0.708 - ETA: 1:45 - loss: 0.708 - ETA: 1:38 - loss: 0.717 - ETA: 1:31 - loss: 0.709 - ETA: 1:24 - loss: 0.707 - ETA: 1:17 - loss: 0.706 - ETA: 1:10 - loss: 0.706 - ETA: 1:03 - loss: 0.700 - ETA: 56s - loss: 0.699 - ETA: 49s - loss: 0.70 - ETA: 42s - loss: 0.69 - ETA: 35s - loss: 0.69 - ETA: 28s - loss: 0.69 - ETA: 21s - loss: 0.69 - ETA: 14s - loss: 0.69 - ETA: 7s - loss: 0.6942 - 605s 76ms/step - loss: 0.6917 - val_loss: 0.5085\n",
      "Epoch 5/10\n",
      "8000/8000 [==============================] - ETA: 9:09 - loss: 0.624 - ETA: 9:00 - loss: 0.586 - ETA: 8:52 - loss: 0.618 - ETA: 8:50 - loss: 0.615 - ETA: 8:47 - loss: 0.625 - ETA: 8:39 - loss: 0.605 - ETA: 8:31 - loss: 0.566 - ETA: 8:24 - loss: 0.573 - ETA: 8:16 - loss: 0.592 - ETA: 8:09 - loss: 0.637 - ETA: 8:02 - loss: 0.641 - ETA: 7:55 - loss: 0.630 - ETA: 7:48 - loss: 0.613 - ETA: 7:41 - loss: 0.682 - ETA: 7:34 - loss: 0.666 - ETA: 7:27 - loss: 0.682 - ETA: 7:21 - loss: 0.710 - ETA: 7:14 - loss: 0.696 - ETA: 7:07 - loss: 0.682 - ETA: 7:00 - loss: 0.677 - ETA: 6:53 - loss: 0.665 - ETA: 6:46 - loss: 0.652 - ETA: 6:39 - loss: 0.642 - ETA: 6:32 - loss: 0.640 - ETA: 6:26 - loss: 0.632 - ETA: 6:20 - loss: 0.635 - ETA: 6:12 - loss: 0.621 - ETA: 6:05 - loss: 0.633 - ETA: 5:58 - loss: 0.641 - ETA: 5:51 - loss: 0.631 - ETA: 5:43 - loss: 0.630 - ETA: 5:36 - loss: 0.638 - ETA: 5:29 - loss: 0.636 - ETA: 5:22 - loss: 0.629 - ETA: 5:16 - loss: 0.631 - ETA: 5:09 - loss: 0.632 - ETA: 5:02 - loss: 0.624 - ETA: 4:55 - loss: 0.617 - ETA: 4:48 - loss: 0.635 - ETA: 4:41 - loss: 0.630 - ETA: 4:34 - loss: 0.638 - ETA: 4:26 - loss: 0.639 - ETA: 4:19 - loss: 0.640 - ETA: 4:12 - loss: 0.634 - ETA: 4:05 - loss: 0.658 - ETA: 3:58 - loss: 0.653 - ETA: 3:51 - loss: 0.660 - ETA: 3:44 - loss: 0.656 - ETA: 3:37 - loss: 0.673 - ETA: 3:30 - loss: 0.672 - ETA: 3:23 - loss: 0.668 - ETA: 3:16 - loss: 0.682 - ETA: 3:09 - loss: 0.688 - ETA: 3:02 - loss: 0.684 - ETA: 2:55 - loss: 0.685 - ETA: 2:48 - loss: 0.682 - ETA: 2:41 - loss: 0.676 - ETA: 2:34 - loss: 0.674 - ETA: 2:27 - loss: 0.681 - ETA: 2:20 - loss: 0.674 - ETA: 2:13 - loss: 0.673 - ETA: 2:06 - loss: 0.675 - ETA: 1:59 - loss: 0.672 - ETA: 1:52 - loss: 0.677 - ETA: 1:45 - loss: 0.674 - ETA: 1:38 - loss: 0.669 - ETA: 1:31 - loss: 0.665 - ETA: 1:24 - loss: 0.669 - ETA: 1:17 - loss: 0.668 - ETA: 1:10 - loss: 0.665 - ETA: 1:03 - loss: 0.666 - ETA: 56s - loss: 0.667 - ETA: 49s - loss: 0.66 - ETA: 42s - loss: 0.66 - ETA: 35s - loss: 0.66 - ETA: 28s - loss: 0.65 - ETA: 21s - loss: 0.65 - ETA: 14s - loss: 0.65 - ETA: 7s - loss: 0.6581 - 606s 76ms/step - loss: 0.6575 - val_loss: 0.5529\n",
      "Epoch 6/10\n",
      "8000/8000 [==============================] - ETA: 8:59 - loss: 1.457 - ETA: 8:51 - loss: 0.898 - ETA: 8:46 - loss: 0.755 - ETA: 8:42 - loss: 0.667 - ETA: 8:39 - loss: 0.673 - ETA: 8:37 - loss: 0.673 - ETA: 8:30 - loss: 0.622 - ETA: 8:24 - loss: 0.585 - ETA: 8:18 - loss: 0.599 - ETA: 8:11 - loss: 0.655 - ETA: 8:05 - loss: 0.628 - ETA: 7:59 - loss: 0.692 - ETA: 7:52 - loss: 0.701 - ETA: 7:46 - loss: 0.688 - ETA: 7:40 - loss: 0.665 - ETA: 7:33 - loss: 0.675 - ETA: 7:25 - loss: 0.673 - ETA: 7:18 - loss: 0.700 - ETA: 7:10 - loss: 0.696 - ETA: 7:02 - loss: 0.684 - ETA: 6:56 - loss: 0.702 - ETA: 6:50 - loss: 0.687 - ETA: 6:43 - loss: 0.687 - ETA: 6:37 - loss: 0.676 - ETA: 6:31 - loss: 0.669 - ETA: 6:24 - loss: 0.663 - ETA: 6:17 - loss: 0.673 - ETA: 6:09 - loss: 0.661 - ETA: 6:02 - loss: 0.647 - ETA: 5:55 - loss: 0.641 - ETA: 5:48 - loss: 0.642 - ETA: 5:40 - loss: 0.668 - ETA: 5:33 - loss: 0.660 - ETA: 5:26 - loss: 0.659 - ETA: 5:18 - loss: 0.652 - ETA: 5:11 - loss: 0.646 - ETA: 5:04 - loss: 0.647 - ETA: 4:57 - loss: 0.647 - ETA: 4:49 - loss: 0.640 - ETA: 4:42 - loss: 0.636 - ETA: 4:35 - loss: 0.638 - ETA: 4:28 - loss: 0.633 - ETA: 4:21 - loss: 0.657 - ETA: 4:14 - loss: 0.653 - ETA: 4:07 - loss: 0.662 - ETA: 4:00 - loss: 0.666 - ETA: 3:53 - loss: 0.665 - ETA: 3:45 - loss: 0.669 - ETA: 3:38 - loss: 0.662 - ETA: 3:31 - loss: 0.659 - ETA: 3:24 - loss: 0.655 - ETA: 3:17 - loss: 0.650 - ETA: 3:10 - loss: 0.643 - ETA: 3:03 - loss: 0.641 - ETA: 2:55 - loss: 0.638 - ETA: 2:48 - loss: 0.632 - ETA: 2:41 - loss: 0.632 - ETA: 2:34 - loss: 0.631 - ETA: 2:27 - loss: 0.629 - ETA: 2:20 - loss: 0.631 - ETA: 2:13 - loss: 0.642 - ETA: 2:06 - loss: 0.638 - ETA: 1:59 - loss: 0.637 - ETA: 1:52 - loss: 0.642 - ETA: 1:45 - loss: 0.635 - ETA: 1:38 - loss: 0.635 - ETA: 1:31 - loss: 0.635 - ETA: 1:24 - loss: 0.635 - ETA: 1:17 - loss: 0.632 - ETA: 1:10 - loss: 0.628 - ETA: 1:03 - loss: 0.626 - ETA: 56s - loss: 0.633 - ETA: 49s - loss: 0.63 - ETA: 42s - loss: 0.62 - ETA: 35s - loss: 0.62 - ETA: 28s - loss: 0.62 - ETA: 21s - loss: 0.62 - ETA: 14s - loss: 0.61 - ETA: 7s - loss: 0.6223 - 606s 76ms/step - loss: 0.6219 - val_loss: 0.4780\n",
      "Epoch 7/10\n"
     ]
    },
    {
     "name": "stdout",
     "output_type": "stream",
     "text": [
      "8000/8000 [==============================] - ETA: 9:00 - loss: 1.087 - ETA: 8:57 - loss: 1.004 - ETA: 8:53 - loss: 0.872 - ETA: 8:46 - loss: 0.908 - ETA: 8:39 - loss: 0.827 - ETA: 8:32 - loss: 0.783 - ETA: 8:25 - loss: 0.717 - ETA: 8:18 - loss: 0.703 - ETA: 8:12 - loss: 0.681 - ETA: 8:05 - loss: 0.647 - ETA: 7:58 - loss: 0.619 - ETA: 7:51 - loss: 0.612 - ETA: 7:45 - loss: 0.586 - ETA: 7:38 - loss: 0.577 - ETA: 7:31 - loss: 0.558 - ETA: 7:24 - loss: 0.561 - ETA: 7:17 - loss: 0.558 - ETA: 7:10 - loss: 0.558 - ETA: 7:03 - loss: 0.542 - ETA: 6:56 - loss: 0.555 - ETA: 6:49 - loss: 0.603 - ETA: 6:43 - loss: 0.594 - ETA: 6:36 - loss: 0.604 - ETA: 6:29 - loss: 0.590 - ETA: 6:22 - loss: 0.583 - ETA: 6:15 - loss: 0.576 - ETA: 6:08 - loss: 0.583 - ETA: 6:01 - loss: 0.583 - ETA: 5:54 - loss: 0.579 - ETA: 5:49 - loss: 0.582 - ETA: 5:42 - loss: 0.582 - ETA: 5:35 - loss: 0.602 - ETA: 5:28 - loss: 0.606 - ETA: 5:22 - loss: 0.600 - ETA: 5:15 - loss: 0.597 - ETA: 5:07 - loss: 0.591 - ETA: 5:00 - loss: 0.596 - ETA: 4:53 - loss: 0.585 - ETA: 4:46 - loss: 0.587 - ETA: 4:39 - loss: 0.588 - ETA: 4:32 - loss: 0.595 - ETA: 4:25 - loss: 0.600 - ETA: 4:18 - loss: 0.592 - ETA: 4:11 - loss: 0.591 - ETA: 4:04 - loss: 0.589 - ETA: 3:57 - loss: 0.588 - ETA: 3:50 - loss: 0.582 - ETA: 3:43 - loss: 0.580 - ETA: 3:36 - loss: 0.580 - ETA: 3:29 - loss: 0.577 - ETA: 3:22 - loss: 0.584 - ETA: 3:15 - loss: 0.595 - ETA: 3:08 - loss: 0.597 - ETA: 3:01 - loss: 0.593 - ETA: 2:54 - loss: 0.597 - ETA: 2:47 - loss: 0.599 - ETA: 2:40 - loss: 0.599 - ETA: 2:33 - loss: 0.602 - ETA: 2:26 - loss: 0.598 - ETA: 2:19 - loss: 0.596 - ETA: 2:12 - loss: 0.598 - ETA: 2:05 - loss: 0.597 - ETA: 1:58 - loss: 0.594 - ETA: 1:51 - loss: 0.589 - ETA: 1:44 - loss: 0.590 - ETA: 1:37 - loss: 0.587 - ETA: 1:30 - loss: 0.595 - ETA: 1:23 - loss: 0.592 - ETA: 1:16 - loss: 0.602 - ETA: 1:09 - loss: 0.610 - ETA: 1:02 - loss: 0.608 - ETA: 55s - loss: 0.606 - ETA: 48s - loss: 0.60 - ETA: 41s - loss: 0.60 - ETA: 34s - loss: 0.60 - ETA: 27s - loss: 0.60 - ETA: 20s - loss: 0.60 - ETA: 13s - loss: 0.60 - ETA: 6s - loss: 0.6021 - 602s 75ms/step - loss: 0.6052 - val_loss: 0.5669\n",
      "Epoch 8/10\n",
      "8000/8000 [==============================] - ETA: 9:18 - loss: 0.965 - ETA: 9:10 - loss: 0.600 - ETA: 9:00 - loss: 0.496 - ETA: 8:53 - loss: 0.465 - ETA: 8:51 - loss: 0.406 - ETA: 8:43 - loss: 0.422 - ETA: 8:35 - loss: 0.469 - ETA: 8:27 - loss: 0.467 - ETA: 8:18 - loss: 0.493 - ETA: 8:10 - loss: 0.462 - ETA: 8:02 - loss: 0.470 - ETA: 7:55 - loss: 0.548 - ETA: 7:49 - loss: 0.558 - ETA: 7:42 - loss: 0.551 - ETA: 7:35 - loss: 0.543 - ETA: 7:28 - loss: 0.553 - ETA: 7:20 - loss: 0.532 - ETA: 7:13 - loss: 0.529 - ETA: 7:06 - loss: 0.519 - ETA: 6:59 - loss: 0.510 - ETA: 6:52 - loss: 0.518 - ETA: 6:45 - loss: 0.541 - ETA: 6:38 - loss: 0.536 - ETA: 6:31 - loss: 0.530 - ETA: 6:24 - loss: 0.516 - ETA: 6:18 - loss: 0.510 - ETA: 6:11 - loss: 0.507 - ETA: 6:04 - loss: 0.509 - ETA: 5:57 - loss: 0.507 - ETA: 5:50 - loss: 0.498 - ETA: 5:43 - loss: 0.514 - ETA: 5:36 - loss: 0.510 - ETA: 5:29 - loss: 0.508 - ETA: 5:22 - loss: 0.504 - ETA: 5:15 - loss: 0.528 - ETA: 5:08 - loss: 0.544 - ETA: 5:01 - loss: 0.541 - ETA: 4:53 - loss: 0.536 - ETA: 4:46 - loss: 0.548 - ETA: 4:39 - loss: 0.557 - ETA: 4:32 - loss: 0.554 - ETA: 4:25 - loss: 0.552 - ETA: 4:18 - loss: 0.555 - ETA: 4:11 - loss: 0.555 - ETA: 4:04 - loss: 0.550 - ETA: 3:57 - loss: 0.551 - ETA: 3:50 - loss: 0.564 - ETA: 3:43 - loss: 0.575 - ETA: 3:36 - loss: 0.573 - ETA: 3:29 - loss: 0.579 - ETA: 3:22 - loss: 0.576 - ETA: 3:15 - loss: 0.571 - ETA: 3:08 - loss: 0.572 - ETA: 3:01 - loss: 0.574 - ETA: 2:54 - loss: 0.571 - ETA: 2:47 - loss: 0.570 - ETA: 2:40 - loss: 0.572 - ETA: 2:33 - loss: 0.569 - ETA: 2:26 - loss: 0.567 - ETA: 2:19 - loss: 0.570 - ETA: 2:12 - loss: 0.567 - ETA: 2:05 - loss: 0.563 - ETA: 1:58 - loss: 0.566 - ETA: 1:51 - loss: 0.567 - ETA: 1:44 - loss: 0.574 - ETA: 1:37 - loss: 0.581 - ETA: 1:30 - loss: 0.578 - ETA: 1:23 - loss: 0.575 - ETA: 1:16 - loss: 0.577 - ETA: 1:09 - loss: 0.575 - ETA: 1:02 - loss: 0.581 - ETA: 55s - loss: 0.580 - ETA: 48s - loss: 0.58 - ETA: 41s - loss: 0.58 - ETA: 34s - loss: 0.59 - ETA: 27s - loss: 0.58 - ETA: 20s - loss: 0.58 - ETA: 13s - loss: 0.58 - ETA: 6s - loss: 0.5878 - 603s 75ms/step - loss: 0.5887 - val_loss: 0.4835\n",
      "Epoch 9/10\n",
      "8000/8000 [==============================] - ETA: 9:12 - loss: 0.387 - ETA: 9:08 - loss: 0.392 - ETA: 8:59 - loss: 0.482 - ETA: 8:50 - loss: 0.558 - ETA: 8:42 - loss: 0.621 - ETA: 8:36 - loss: 0.576 - ETA: 8:28 - loss: 0.553 - ETA: 8:23 - loss: 0.522 - ETA: 8:15 - loss: 0.508 - ETA: 8:08 - loss: 0.532 - ETA: 8:01 - loss: 0.559 - ETA: 7:57 - loss: 0.549 - ETA: 7:49 - loss: 0.530 - ETA: 7:41 - loss: 0.539 - ETA: 7:34 - loss: 0.533 - ETA: 7:27 - loss: 0.521 - ETA: 7:20 - loss: 0.500 - ETA: 7:12 - loss: 0.519 - ETA: 7:05 - loss: 0.523 - ETA: 6:58 - loss: 0.522 - ETA: 6:51 - loss: 0.526 - ETA: 6:44 - loss: 0.521 - ETA: 6:36 - loss: 0.521 - ETA: 6:29 - loss: 0.515 - ETA: 6:22 - loss: 0.516 - ETA: 6:14 - loss: 0.511 - ETA: 6:07 - loss: 0.523 - ETA: 6:00 - loss: 0.524 - ETA: 5:53 - loss: 0.535 - ETA: 5:47 - loss: 0.552 - ETA: 5:40 - loss: 0.557 - ETA: 5:33 - loss: 0.550 - ETA: 5:26 - loss: 0.546 - ETA: 5:19 - loss: 0.559 - ETA: 5:12 - loss: 0.550 - ETA: 5:05 - loss: 0.565 - ETA: 4:58 - loss: 0.574 - ETA: 4:51 - loss: 0.566 - ETA: 4:44 - loss: 0.562 - ETA: 4:37 - loss: 0.561 - ETA: 4:30 - loss: 0.562 - ETA: 4:23 - loss: 0.553 - ETA: 4:16 - loss: 0.561 - ETA: 4:09 - loss: 0.571 - ETA: 4:02 - loss: 0.565 - ETA: 3:55 - loss: 0.570 - ETA: 3:49 - loss: 0.571 - ETA: 3:42 - loss: 0.566 - ETA: 3:35 - loss: 0.561 - ETA: 3:28 - loss: 0.573 - ETA: 3:21 - loss: 0.578 - ETA: 3:14 - loss: 0.577 - ETA: 3:07 - loss: 0.572 - ETA: 3:00 - loss: 0.567 - ETA: 2:53 - loss: 0.564 - ETA: 2:46 - loss: 0.561 - ETA: 2:39 - loss: 0.560 - ETA: 2:33 - loss: 0.558 - ETA: 2:26 - loss: 0.562 - ETA: 2:19 - loss: 0.559 - ETA: 2:12 - loss: 0.570 - ETA: 2:05 - loss: 0.567 - ETA: 1:58 - loss: 0.576 - ETA: 1:51 - loss: 0.575 - ETA: 1:44 - loss: 0.573 - ETA: 1:37 - loss: 0.581 - ETA: 1:30 - loss: 0.576 - ETA: 1:23 - loss: 0.574 - ETA: 1:16 - loss: 0.570 - ETA: 1:09 - loss: 0.571 - ETA: 1:02 - loss: 0.573 - ETA: 55s - loss: 0.575 - ETA: 48s - loss: 0.57 - ETA: 41s - loss: 0.57 - ETA: 34s - loss: 0.56 - ETA: 28s - loss: 0.56 - ETA: 21s - loss: 0.56 - ETA: 14s - loss: 0.57 - ETA: 7s - loss: 0.5712 - 606s 76ms/step - loss: 0.5693 - val_loss: 0.4553\n",
      "Epoch 10/10\n",
      "8000/8000 [==============================] - ETA: 8:58 - loss: 0.628 - ETA: 8:58 - loss: 0.515 - ETA: 8:53 - loss: 0.480 - ETA: 8:49 - loss: 0.437 - ETA: 8:42 - loss: 0.379 - ETA: 8:39 - loss: 0.402 - ETA: 8:31 - loss: 0.458 - ETA: 8:23 - loss: 0.434 - ETA: 8:16 - loss: 0.418 - ETA: 8:08 - loss: 0.461 - ETA: 8:01 - loss: 0.467 - ETA: 7:54 - loss: 0.539 - ETA: 7:46 - loss: 0.526 - ETA: 7:38 - loss: 0.517 - ETA: 7:31 - loss: 0.497 - ETA: 7:23 - loss: 0.483 - ETA: 7:16 - loss: 0.476 - ETA: 7:09 - loss: 0.482 - ETA: 7:02 - loss: 0.495 - ETA: 6:55 - loss: 0.490 - ETA: 6:48 - loss: 0.495 - ETA: 6:41 - loss: 0.523 - ETA: 6:34 - loss: 0.522 - ETA: 6:27 - loss: 0.522 - ETA: 6:20 - loss: 0.523 - ETA: 6:13 - loss: 0.528 - ETA: 6:06 - loss: 0.558 - ETA: 5:59 - loss: 0.552 - ETA: 5:52 - loss: 0.556 - ETA: 5:46 - loss: 0.567 - ETA: 5:39 - loss: 0.565 - ETA: 5:32 - loss: 0.554 - ETA: 5:26 - loss: 0.577 - ETA: 5:19 - loss: 0.571 - ETA: 5:12 - loss: 0.566 - ETA: 5:05 - loss: 0.568 - ETA: 4:59 - loss: 0.565 - ETA: 4:52 - loss: 0.563 - ETA: 4:45 - loss: 0.558 - ETA: 4:38 - loss: 0.564 - ETA: 4:31 - loss: 0.561 - ETA: 4:24 - loss: 0.554 - ETA: 4:17 - loss: 0.548 - ETA: 4:10 - loss: 0.552 - ETA: 4:03 - loss: 0.546 - ETA: 3:56 - loss: 0.558 - ETA: 3:49 - loss: 0.554 - ETA: 3:42 - loss: 0.564 - ETA: 3:35 - loss: 0.558 - ETA: 3:28 - loss: 0.553 - ETA: 3:22 - loss: 0.558 - ETA: 3:15 - loss: 0.554 - ETA: 3:08 - loss: 0.552 - ETA: 3:01 - loss: 0.550 - ETA: 2:54 - loss: 0.550 - ETA: 2:47 - loss: 0.549 - ETA: 2:40 - loss: 0.546 - ETA: 2:33 - loss: 0.544 - ETA: 2:26 - loss: 0.544 - ETA: 2:19 - loss: 0.550 - ETA: 2:12 - loss: 0.555 - ETA: 2:06 - loss: 0.554 - ETA: 1:59 - loss: 0.560 - ETA: 1:52 - loss: 0.564 - ETA: 1:45 - loss: 0.569 - ETA: 1:38 - loss: 0.565 - ETA: 1:31 - loss: 0.563 - ETA: 1:24 - loss: 0.558 - ETA: 1:17 - loss: 0.556 - ETA: 1:10 - loss: 0.559 - ETA: 1:03 - loss: 0.553 - ETA: 56s - loss: 0.554 - ETA: 49s - loss: 0.55 - ETA: 42s - loss: 0.55 - ETA: 35s - loss: 0.56 - ETA: 28s - loss: 0.56 - ETA: 21s - loss: 0.56 - ETA: 14s - loss: 0.56 - ETA: 7s - loss: 0.5604 - 605s 76ms/step - loss: 0.5574 - val_loss: 0.5933\n"
     ]
    },
    {
     "data": {
      "text/plain": [
       "<keras.callbacks.History at 0x1ed80461cc0>"
      ]
     },
     "execution_count": 46,
     "metadata": {},
     "output_type": "execute_result"
    }
   ],
   "source": [
    "es=EarlyStopping(monitor='val_loss', min_delta=0, patience=2, verbose=0, mode='auto', baseline=None, restore_best_weights=True)\n",
    "model.fit(train_x,train_y,validation_data=[test_x,test_y],epochs=10,batch_size=batch_size,callbacks=[es])"
   ]
  },
  {
   "cell_type": "code",
   "execution_count": 49,
   "metadata": {},
   "outputs": [],
   "source": [
    "model.save('model_59.h5')"
   ]
  },
  {
   "cell_type": "code",
   "execution_count": 14,
   "metadata": {},
   "outputs": [
    {
     "name": "stdout",
     "output_type": "stream",
     "text": [
      "WARNING:tensorflow:From C:\\ProgramData\\Anaconda3\\lib\\site-packages\\tensorflow\\python\\ops\\math_ops.py:3066: to_int32 (from tensorflow.python.ops.math_ops) is deprecated and will be removed in a future version.\n",
      "Instructions for updating:\n",
      "Use tf.cast instead.\n"
     ]
    }
   ],
   "source": [
    "model=load_model('model_59.h5')"
   ]
  },
  {
   "cell_type": "markdown",
   "metadata": {},
   "source": [
    "### Loading Data from 10,000 to 20,000"
   ]
  },
  {
   "cell_type": "code",
   "execution_count": 15,
   "metadata": {},
   "outputs": [
    {
     "name": "stdout",
     "output_type": "stream",
     "text": [
      "Loading Data Start...\n",
      "No of image files: 45406\n",
      "No of labels appended: 45406\n",
      "Starting index of current batch: 10000\n",
      "End index of current batch: 20000\n",
      "No of image files for current batch: 10000\n"
     ]
    },
    {
     "data": {
      "application/vnd.jupyter.widget-view+json": {
       "model_id": "c4aeb570c41e44c8b7ec6d02aa37d455",
       "version_major": 2,
       "version_minor": 0
      },
      "text/plain": [
       "HBox(children=(IntProgress(value=0, max=10000), HTML(value='')))"
      ]
     },
     "metadata": {},
     "output_type": "display_data"
    },
    {
     "name": "stdout",
     "output_type": "stream",
     "text": [
      "\n",
      "Data loaded sucessfully.\n"
     ]
    }
   ],
   "source": [
    "x,y=load_data(10000,20000)"
   ]
  },
  {
   "cell_type": "code",
   "execution_count": 16,
   "metadata": {},
   "outputs": [],
   "source": [
    "train_x, test_x, train_y, test_y = train_test_split(x, y, random_state=0,\n",
    "                                                        test_size=0.2)"
   ]
  },
  {
   "cell_type": "code",
   "execution_count": 17,
   "metadata": {},
   "outputs": [
    {
     "name": "stdout",
     "output_type": "stream",
     "text": [
      "2000/2000 [==============================] - ETA: 4: - ETA: 2: - ETA: 1: - ETA: 1: - ETA: 1: - ETA: 1: - ETA: 1: - ETA: 1: - ETA: 1: - ETA: 1: - ETA: 58s - ETA: 55 - ETA: 53 - ETA: 51 - ETA: 49 - ETA: 47 - ETA: 46 - ETA: 44 - ETA: 43 - ETA: 41 - ETA: 40 - ETA: 39 - ETA: 38 - ETA: 36 - ETA: 35 - ETA: 34 - ETA: 33 - ETA: 32 - ETA: 31 - ETA: 30 - ETA: 29 - ETA: 28 - ETA: 27 - ETA: 26 - ETA: 25 - ETA: 24 - ETA: 23 - ETA: 22 - ETA: 21 - ETA: 20 - ETA: 19 - ETA: 18 - ETA: 17 - ETA: 16 - ETA: 15 - ETA: 14 - ETA: 13 - ETA: 12 - ETA: 12 - ETA: 11 - ETA: 10 - ETA: 9 - ETA:  - ETA:  - ETA:  - ETA:  - ETA:  - ETA:  - ETA:  - ETA:  - ETA:  - ETA:  - 56s 28ms/step\n"
     ]
    },
    {
     "data": {
      "text/plain": [
       "0.2030391857624054"
      ]
     },
     "execution_count": 17,
     "metadata": {},
     "output_type": "execute_result"
    }
   ],
   "source": [
    "model.evaluate(test_x,test_y)"
   ]
  },
  {
   "cell_type": "markdown",
   "metadata": {},
   "source": [
    "#### Epoch 1 to 10 with batch2(10,000 to 20,000 data points):"
   ]
  },
  {
   "cell_type": "code",
   "execution_count": 60,
   "metadata": {},
   "outputs": [
    {
     "name": "stdout",
     "output_type": "stream",
     "text": [
      "Epoch 1/10\n",
      "63/62 [==============================] - ETA: 9:45 - loss: 0.277 - ETA: 9:35 - loss: 0.401 - ETA: 9:27 - loss: 0.334 - ETA: 9:18 - loss: 0.305 - ETA: 9:08 - loss: 0.273 - ETA: 9:00 - loss: 0.254 - ETA: 8:50 - loss: 0.258 - ETA: 8:40 - loss: 0.263 - ETA: 8:30 - loss: 0.264 - ETA: 8:19 - loss: 0.259 - ETA: 8:08 - loss: 0.254 - ETA: 7:59 - loss: 0.261 - ETA: 7:50 - loss: 0.265 - ETA: 7:40 - loss: 0.262 - ETA: 7:31 - loss: 0.261 - ETA: 7:22 - loss: 0.254 - ETA: 7:08 - loss: 0.251 - ETA: 6:50 - loss: 0.247 - ETA: 6:34 - loss: 0.248 - ETA: 6:19 - loss: 0.247 - ETA: 6:07 - loss: 0.243 - ETA: 5:53 - loss: 0.244 - ETA: 5:40 - loss: 0.240 - ETA: 5:28 - loss: 0.239 - ETA: 5:16 - loss: 0.235 - ETA: 5:04 - loss: 0.235 - ETA: 4:53 - loss: 0.237 - ETA: 4:42 - loss: 0.236 - ETA: 4:31 - loss: 0.233 - ETA: 4:21 - loss: 0.230 - ETA: 4:11 - loss: 0.230 - ETA: 4:01 - loss: 0.228 - ETA: 3:52 - loss: 0.224 - ETA: 3:42 - loss: 0.223 - ETA: 3:33 - loss: 0.222 - ETA: 3:24 - loss: 0.220 - ETA: 3:16 - loss: 0.217 - ETA: 3:07 - loss: 0.218 - ETA: 2:58 - loss: 0.217 - ETA: 2:50 - loss: 0.217 - ETA: 2:42 - loss: 0.219 - ETA: 2:34 - loss: 0.220 - ETA: 2:26 - loss: 0.221 - ETA: 2:18 - loss: 0.219 - ETA: 2:10 - loss: 0.219 - ETA: 2:03 - loss: 0.219 - ETA: 1:55 - loss: 0.218 - ETA: 1:47 - loss: 0.218 - ETA: 1:40 - loss: 0.218 - ETA: 1:32 - loss: 0.216 - ETA: 1:24 - loss: 0.214 - ETA: 1:17 - loss: 0.213 - ETA: 1:10 - loss: 0.214 - ETA: 1:02 - loss: 0.215 - ETA: 55s - loss: 0.214 - ETA: 47s - loss: 0.21 - ETA: 40s - loss: 0.21 - ETA: 33s - loss: 0.21 - ETA: 25s - loss: 0.20 - ETA: 18s - loss: 0.21 - ETA: 11s - loss: 0.20 - ETA: 3s - loss: 0.2062 - 464s 7s/step - loss: 0.2058\n",
      "Epoch 2/10\n",
      "63/62 [==============================] - ETA: 7:09 - loss: 0.199 - ETA: 7:06 - loss: 0.218 - ETA: 7:06 - loss: 0.189 - ETA: 6:58 - loss: 0.226 - ETA: 6:50 - loss: 0.202 - ETA: 6:41 - loss: 0.205 - ETA: 6:34 - loss: 0.205 - ETA: 6:26 - loss: 0.202 - ETA: 6:17 - loss: 0.192 - ETA: 6:11 - loss: 0.184 - ETA: 6:03 - loss: 0.180 - ETA: 5:56 - loss: 0.189 - ETA: 5:51 - loss: 0.194 - ETA: 5:43 - loss: 0.195 - ETA: 5:36 - loss: 0.194 - ETA: 5:28 - loss: 0.193 - ETA: 5:21 - loss: 0.195 - ETA: 5:15 - loss: 0.196 - ETA: 5:08 - loss: 0.202 - ETA: 5:00 - loss: 0.199 - ETA: 4:53 - loss: 0.198 - ETA: 4:46 - loss: 0.194 - ETA: 4:38 - loss: 0.195 - ETA: 4:31 - loss: 0.195 - ETA: 4:24 - loss: 0.191 - ETA: 4:18 - loss: 0.190 - ETA: 4:11 - loss: 0.192 - ETA: 4:04 - loss: 0.191 - ETA: 3:58 - loss: 0.191 - ETA: 3:51 - loss: 0.189 - ETA: 3:44 - loss: 0.190 - ETA: 3:36 - loss: 0.188 - ETA: 3:29 - loss: 0.186 - ETA: 3:22 - loss: 0.185 - ETA: 3:14 - loss: 0.184 - ETA: 3:07 - loss: 0.183 - ETA: 3:00 - loss: 0.182 - ETA: 2:52 - loss: 0.182 - ETA: 2:45 - loss: 0.180 - ETA: 2:38 - loss: 0.178 - ETA: 2:31 - loss: 0.179 - ETA: 2:23 - loss: 0.178 - ETA: 2:16 - loss: 0.175 - ETA: 2:09 - loss: 0.175 - ETA: 2:02 - loss: 0.173 - ETA: 1:55 - loss: 0.172 - ETA: 1:48 - loss: 0.171 - ETA: 1:41 - loss: 0.172 - ETA: 1:34 - loss: 0.172 - ETA: 1:27 - loss: 0.171 - ETA: 1:20 - loss: 0.170 - ETA: 1:13 - loss: 0.169 - ETA: 1:06 - loss: 0.170 - ETA: 59s - loss: 0.169 - ETA: 52s - loss: 0.16 - ETA: 45s - loss: 0.16 - ETA: 38s - loss: 0.16 - ETA: 31s - loss: 0.16 - ETA: 24s - loss: 0.16 - ETA: 17s - loss: 0.16 - ETA: 10s - loss: 0.16 - ETA: 3s - loss: 0.1691 - 437s 7s/step - loss: 0.1689\n",
      "Epoch 3/10\n",
      "63/62 [==============================] - ETA: 6:57 - loss: 0.283 - ETA: 6:51 - loss: 0.194 - ETA: 6:49 - loss: 0.170 - ETA: 6:41 - loss: 0.169 - ETA: 6:35 - loss: 0.163 - ETA: 6:32 - loss: 0.158 - ETA: 6:28 - loss: 0.148 - ETA: 6:25 - loss: 0.139 - ETA: 6:21 - loss: 0.133 - ETA: 6:13 - loss: 0.135 - ETA: 6:05 - loss: 0.136 - ETA: 5:57 - loss: 0.139 - ETA: 5:50 - loss: 0.139 - ETA: 5:43 - loss: 0.140 - ETA: 5:35 - loss: 0.140 - ETA: 5:27 - loss: 0.149 - ETA: 5:19 - loss: 0.154 - ETA: 5:12 - loss: 0.153 - ETA: 5:04 - loss: 0.155 - ETA: 4:57 - loss: 0.159 - ETA: 4:49 - loss: 0.159 - ETA: 4:42 - loss: 0.156 - ETA: 4:35 - loss: 0.152 - ETA: 4:27 - loss: 0.152 - ETA: 4:20 - loss: 0.149 - ETA: 4:13 - loss: 0.151 - ETA: 4:06 - loss: 0.152 - ETA: 3:59 - loss: 0.154 - ETA: 3:52 - loss: 0.153 - ETA: 3:44 - loss: 0.152 - ETA: 3:37 - loss: 0.153 - ETA: 3:30 - loss: 0.151 - ETA: 3:23 - loss: 0.149 - ETA: 3:16 - loss: 0.152 - ETA: 3:09 - loss: 0.151 - ETA: 3:02 - loss: 0.150 - ETA: 2:55 - loss: 0.150 - ETA: 2:48 - loss: 0.148 - ETA: 2:41 - loss: 0.147 - ETA: 2:35 - loss: 0.146 - ETA: 2:28 - loss: 0.148 - ETA: 2:21 - loss: 0.147 - ETA: 2:15 - loss: 0.150 - ETA: 2:08 - loss: 0.149 - ETA: 2:01 - loss: 0.149 - ETA: 1:54 - loss: 0.149 - ETA: 1:47 - loss: 0.148 - ETA: 1:40 - loss: 0.147 - ETA: 1:33 - loss: 0.149 - ETA: 1:26 - loss: 0.148 - ETA: 1:19 - loss: 0.148 - ETA: 1:12 - loss: 0.149 - ETA: 1:05 - loss: 0.150 - ETA: 58s - loss: 0.149 - ETA: 51s - loss: 0.14 - ETA: 45s - loss: 0.14 - ETA: 38s - loss: 0.14 - ETA: 31s - loss: 0.14 - ETA: 24s - loss: 0.15 - ETA: 17s - loss: 0.15 - ETA: 10s - loss: 0.15 - ETA: 3s - loss: 0.1507 - 435s 7s/step - loss: 0.1505\n",
      "Epoch 4/10\n",
      "63/62 [==============================] - ETA: 6:55 - loss: 0.078 - ETA: 6:50 - loss: 0.071 - ETA: 6:45 - loss: 0.131 - ETA: 6:38 - loss: 0.129 - ETA: 6:32 - loss: 0.142 - ETA: 6:24 - loss: 0.146 - ETA: 6:16 - loss: 0.145 - ETA: 6:09 - loss: 0.133 - ETA: 6:05 - loss: 0.125 - ETA: 5:57 - loss: 0.134 - ETA: 5:50 - loss: 0.129 - ETA: 5:43 - loss: 0.126 - ETA: 5:36 - loss: 0.123 - ETA: 5:29 - loss: 0.124 - ETA: 5:23 - loss: 0.134 - ETA: 5:17 - loss: 0.145 - ETA: 5:10 - loss: 0.143 - ETA: 5:03 - loss: 0.140 - ETA: 4:56 - loss: 0.140 - ETA: 4:49 - loss: 0.142 - ETA: 4:42 - loss: 0.139 - ETA: 4:35 - loss: 0.138 - ETA: 4:28 - loss: 0.139 - ETA: 4:22 - loss: 0.136 - ETA: 4:15 - loss: 0.137 - ETA: 4:08 - loss: 0.136 - ETA: 4:01 - loss: 0.136 - ETA: 3:54 - loss: 0.137 - ETA: 3:47 - loss: 0.139 - ETA: 3:41 - loss: 0.142 - ETA: 3:34 - loss: 0.140 - ETA: 3:27 - loss: 0.142 - ETA: 3:20 - loss: 0.140 - ETA: 3:13 - loss: 0.141 - ETA: 3:07 - loss: 0.141 - ETA: 3:00 - loss: 0.142 - ETA: 2:53 - loss: 0.142 - ETA: 2:46 - loss: 0.143 - ETA: 2:39 - loss: 0.143 - ETA: 2:33 - loss: 0.143 - ETA: 2:26 - loss: 0.141 - ETA: 2:19 - loss: 0.140 - ETA: 2:12 - loss: 0.139 - ETA: 2:05 - loss: 0.138 - ETA: 1:59 - loss: 0.139 - ETA: 1:52 - loss: 0.140 - ETA: 1:45 - loss: 0.139 - ETA: 1:38 - loss: 0.140 - ETA: 1:31 - loss: 0.140 - ETA: 1:25 - loss: 0.140 - ETA: 1:18 - loss: 0.140 - ETA: 1:11 - loss: 0.141 - ETA: 1:04 - loss: 0.140 - ETA: 57s - loss: 0.142 - ETA: 51s - loss: 0.14 - ETA: 44s - loss: 0.14 - ETA: 37s - loss: 0.14 - ETA: 30s - loss: 0.14 - ETA: 23s - loss: 0.14 - ETA: 17s - loss: 0.14 - ETA: 10s - loss: 0.14 - ETA: 3s - loss: 0.1425 - 428s 7s/step - loss: 0.1434\n",
      "Epoch 5/10\n",
      "63/62 [==============================] - ETA: 6:52 - loss: 0.088 - ETA: 6:45 - loss: 0.119 - ETA: 6:38 - loss: 0.112 - ETA: 6:31 - loss: 0.108 - ETA: 6:25 - loss: 0.104 - ETA: 6:18 - loss: 0.105 - ETA: 6:14 - loss: 0.102 - ETA: 6:08 - loss: 0.118 - ETA: 6:02 - loss: 0.115 - ETA: 5:56 - loss: 0.111 - ETA: 5:50 - loss: 0.109 - ETA: 5:43 - loss: 0.110 - ETA: 5:36 - loss: 0.109 - ETA: 5:29 - loss: 0.113 - ETA: 5:22 - loss: 0.117 - ETA: 5:16 - loss: 0.116 - ETA: 5:09 - loss: 0.116 - ETA: 5:02 - loss: 0.115 - ETA: 4:55 - loss: 0.116 - ETA: 4:49 - loss: 0.117 - ETA: 4:42 - loss: 0.116 - ETA: 4:36 - loss: 0.113 - ETA: 4:29 - loss: 0.113 - ETA: 4:22 - loss: 0.112 - ETA: 4:15 - loss: 0.111 - ETA: 4:08 - loss: 0.113 - ETA: 4:01 - loss: 0.114 - ETA: 3:54 - loss: 0.113 - ETA: 3:48 - loss: 0.116 - ETA: 3:41 - loss: 0.121 - ETA: 3:34 - loss: 0.120 - ETA: 3:28 - loss: 0.122 - ETA: 3:21 - loss: 0.120 - ETA: 3:14 - loss: 0.119 - ETA: 3:07 - loss: 0.118 - ETA: 3:00 - loss: 0.119 - ETA: 2:53 - loss: 0.118 - ETA: 2:46 - loss: 0.117 - ETA: 2:40 - loss: 0.118 - ETA: 2:33 - loss: 0.119 - ETA: 2:26 - loss: 0.120 - ETA: 2:19 - loss: 0.119 - ETA: 2:12 - loss: 0.121 - ETA: 2:05 - loss: 0.122 - ETA: 1:59 - loss: 0.121 - ETA: 1:52 - loss: 0.120 - ETA: 1:45 - loss: 0.119 - ETA: 1:38 - loss: 0.119 - ETA: 1:31 - loss: 0.119 - ETA: 1:25 - loss: 0.118 - ETA: 1:18 - loss: 0.117 - ETA: 1:11 - loss: 0.117 - ETA: 1:04 - loss: 0.116 - ETA: 57s - loss: 0.114 - ETA: 51s - loss: 0.11 - ETA: 44s - loss: 0.11 - ETA: 37s - loss: 0.11 - ETA: 30s - loss: 0.11 - ETA: 23s - loss: 0.11 - ETA: 17s - loss: 0.11 - ETA: 10s - loss: 0.11 - ETA: 3s - loss: 0.1139 - 429s 7s/step - loss: 0.1140\n",
      "Epoch 6/10\n",
      "63/62 [==============================] - ETA: 7:10 - loss: 0.224 - ETA: 7:02 - loss: 0.239 - ETA: 6:51 - loss: 0.215 - ETA: 6:44 - loss: 0.188 - ETA: 6:39 - loss: 0.189 - ETA: 6:30 - loss: 0.177 - ETA: 6:26 - loss: 0.163 - ETA: 6:18 - loss: 0.157 - ETA: 6:10 - loss: 0.156 - ETA: 6:02 - loss: 0.157 - ETA: 5:55 - loss: 0.156 - ETA: 5:48 - loss: 0.154 - ETA: 5:41 - loss: 0.151 - ETA: 5:34 - loss: 0.145 - ETA: 5:27 - loss: 0.148 - ETA: 5:19 - loss: 0.150 - ETA: 5:12 - loss: 0.148 - ETA: 5:05 - loss: 0.146 - ETA: 4:58 - loss: 0.144 - ETA: 4:51 - loss: 0.144 - ETA: 4:44 - loss: 0.145 - ETA: 4:37 - loss: 0.148 - ETA: 4:30 - loss: 0.145 - ETA: 4:23 - loss: 0.144 - ETA: 4:16 - loss: 0.141 - ETA: 4:09 - loss: 0.145 - ETA: 4:02 - loss: 0.143 - ETA: 3:55 - loss: 0.141 - ETA: 3:49 - loss: 0.139 - ETA: 3:42 - loss: 0.137 - ETA: 3:35 - loss: 0.135 - ETA: 3:28 - loss: 0.135 - ETA: 3:21 - loss: 0.136 - ETA: 3:15 - loss: 0.137 - ETA: 3:08 - loss: 0.139 - ETA: 3:01 - loss: 0.137 - ETA: 2:54 - loss: 0.138 - ETA: 2:47 - loss: 0.139 - ETA: 2:40 - loss: 0.137 - ETA: 2:33 - loss: 0.137 - ETA: 2:27 - loss: 0.135 - ETA: 2:20 - loss: 0.134 - ETA: 2:13 - loss: 0.132 - ETA: 2:06 - loss: 0.132 - ETA: 1:59 - loss: 0.131 - ETA: 1:52 - loss: 0.132 - ETA: 1:45 - loss: 0.130 - ETA: 1:39 - loss: 0.129 - ETA: 1:32 - loss: 0.129 - ETA: 1:25 - loss: 0.127 - ETA: 1:18 - loss: 0.127 - ETA: 1:12 - loss: 0.126 - ETA: 1:05 - loss: 0.126 - ETA: 58s - loss: 0.126 - ETA: 51s - loss: 0.12 - ETA: 44s - loss: 0.12 - ETA: 37s - loss: 0.12 - ETA: 30s - loss: 0.12 - ETA: 23s - loss: 0.12 - ETA: 17s - loss: 0.12 - ETA: 10s - loss: 0.12 - ETA: 3s - loss: 0.1215 - 431s 7s/step - loss: 0.1203\n",
      "Epoch 7/10\n",
      "63/62 [==============================] - ETA: 7:01 - loss: 0.107 - ETA: 6:51 - loss: 0.110 - ETA: 6:39 - loss: 0.135 - ETA: 6:29 - loss: 0.127 - ETA: 6:21 - loss: 0.140 - ETA: 6:13 - loss: 0.142 - ETA: 6:10 - loss: 0.140 - ETA: 6:03 - loss: 0.138 - ETA: 5:57 - loss: 0.130 - ETA: 5:53 - loss: 0.129 - ETA: 5:46 - loss: 0.135 - ETA: 5:40 - loss: 0.136 - ETA: 5:34 - loss: 0.134 - ETA: 5:27 - loss: 0.134 - ETA: 5:21 - loss: 0.136 - ETA: 5:14 - loss: 0.136 - ETA: 5:07 - loss: 0.137 - ETA: 5:00 - loss: 0.132 - ETA: 4:53 - loss: 0.129 - ETA: 4:46 - loss: 0.126 - ETA: 4:39 - loss: 0.130 - ETA: 4:32 - loss: 0.130 - ETA: 4:25 - loss: 0.128 - ETA: 4:18 - loss: 0.127 - ETA: 4:12 - loss: 0.127 - ETA: 4:05 - loss: 0.124 - ETA: 3:59 - loss: 0.125 - ETA: 3:52 - loss: 0.123 - ETA: 3:45 - loss: 0.123 - ETA: 3:39 - loss: 0.121 - ETA: 3:32 - loss: 0.121 - ETA: 3:25 - loss: 0.120 - ETA: 3:18 - loss: 0.122 - ETA: 3:12 - loss: 0.120 - ETA: 3:05 - loss: 0.118 - ETA: 2:58 - loss: 0.117 - ETA: 2:52 - loss: 0.116 - ETA: 2:45 - loss: 0.116 - ETA: 2:38 - loss: 0.116 - ETA: 2:32 - loss: 0.116 - ETA: 2:25 - loss: 0.116 - ETA: 2:18 - loss: 0.115 - ETA: 2:11 - loss: 0.115 - ETA: 2:04 - loss: 0.113 - ETA: 1:58 - loss: 0.113 - ETA: 1:51 - loss: 0.112 - ETA: 1:44 - loss: 0.112 - ETA: 1:37 - loss: 0.115 - ETA: 1:31 - loss: 0.115 - ETA: 1:24 - loss: 0.116 - ETA: 1:17 - loss: 0.117 - ETA: 1:11 - loss: 0.117 - ETA: 1:04 - loss: 0.117 - ETA: 57s - loss: 0.117 - ETA: 50s - loss: 0.11 - ETA: 44s - loss: 0.11 - ETA: 37s - loss: 0.11 - ETA: 30s - loss: 0.11 - ETA: 23s - loss: 0.11 - ETA: 16s - loss: 0.11 - ETA: 10s - loss: 0.11 - ETA: 3s - loss: 0.1129 - 427s 7s/step - loss: 0.1130\n",
      "Epoch 8/10\n",
      "63/62 [==============================] - ETA: 6:46 - loss: 0.184 - ETA: 6:41 - loss: 0.146 - ETA: 6:36 - loss: 0.121 - ETA: 6:30 - loss: 0.108 - ETA: 6:24 - loss: 0.114 - ETA: 6:18 - loss: 0.112 - ETA: 6:12 - loss: 0.111 - ETA: 6:05 - loss: 0.120 - ETA: 5:59 - loss: 0.113 - ETA: 5:55 - loss: 0.113 - ETA: 5:52 - loss: 0.120 - ETA: 5:46 - loss: 0.131 - ETA: 5:43 - loss: 0.132 - ETA: 5:36 - loss: 0.137 - ETA: 5:28 - loss: 0.133 - ETA: 5:20 - loss: 0.131 - ETA: 5:13 - loss: 0.130 - ETA: 5:06 - loss: 0.130 - ETA: 4:59 - loss: 0.131 - ETA: 4:52 - loss: 0.130 - ETA: 4:45 - loss: 0.130 - ETA: 4:38 - loss: 0.127 - ETA: 4:31 - loss: 0.125 - ETA: 4:24 - loss: 0.124 - ETA: 4:17 - loss: 0.123 - ETA: 4:10 - loss: 0.122 - ETA: 4:03 - loss: 0.121 - ETA: 3:56 - loss: 0.122 - ETA: 3:50 - loss: 0.123 - ETA: 3:43 - loss: 0.124 - ETA: 3:36 - loss: 0.122 - ETA: 3:29 - loss: 0.122 - ETA: 3:22 - loss: 0.121 - ETA: 3:15 - loss: 0.119 - ETA: 3:08 - loss: 0.118 - ETA: 3:01 - loss: 0.118 - ETA: 2:54 - loss: 0.122 - ETA: 2:47 - loss: 0.122 - ETA: 2:40 - loss: 0.121 - ETA: 2:33 - loss: 0.121 - ETA: 2:27 - loss: 0.121 - ETA: 2:20 - loss: 0.119 - ETA: 2:13 - loss: 0.119 - ETA: 2:06 - loss: 0.118 - ETA: 1:59 - loss: 0.116 - ETA: 1:52 - loss: 0.117 - ETA: 1:45 - loss: 0.118 - ETA: 1:38 - loss: 0.117 - ETA: 1:32 - loss: 0.116 - ETA: 1:25 - loss: 0.115 - ETA: 1:18 - loss: 0.116 - ETA: 1:11 - loss: 0.115 - ETA: 1:04 - loss: 0.116 - ETA: 58s - loss: 0.116 - ETA: 51s - loss: 0.11 - ETA: 44s - loss: 0.11 - ETA: 37s - loss: 0.11 - ETA: 30s - loss: 0.11 - ETA: 24s - loss: 0.11 - ETA: 17s - loss: 0.11 - ETA: 10s - loss: 0.11 - ETA: 3s - loss: 0.1162 - 432s 7s/step - loss: 0.1164\n",
      "Epoch 9/10\n"
     ]
    },
    {
     "name": "stdout",
     "output_type": "stream",
     "text": [
      "63/62 [==============================] - ETA: 6:39 - loss: 0.191 - ETA: 6:34 - loss: 0.141 - ETA: 6:29 - loss: 0.137 - ETA: 6:24 - loss: 0.127 - ETA: 6:19 - loss: 0.115 - ETA: 6:15 - loss: 0.104 - ETA: 6:09 - loss: 0.120 - ETA: 6:04 - loss: 0.119 - ETA: 5:58 - loss: 0.112 - ETA: 5:52 - loss: 0.111 - ETA: 5:46 - loss: 0.116 - ETA: 5:39 - loss: 0.114 - ETA: 5:33 - loss: 0.108 - ETA: 5:26 - loss: 0.105 - ETA: 5:19 - loss: 0.109 - ETA: 5:13 - loss: 0.111 - ETA: 5:07 - loss: 0.109 - ETA: 5:00 - loss: 0.110 - ETA: 4:53 - loss: 0.109 - ETA: 4:47 - loss: 0.113 - ETA: 4:40 - loss: 0.111 - ETA: 4:33 - loss: 0.111 - ETA: 4:27 - loss: 0.111 - ETA: 4:20 - loss: 0.111 - ETA: 4:13 - loss: 0.113 - ETA: 4:07 - loss: 0.113 - ETA: 4:00 - loss: 0.114 - ETA: 3:53 - loss: 0.115 - ETA: 3:46 - loss: 0.114 - ETA: 3:40 - loss: 0.114 - ETA: 3:33 - loss: 0.113 - ETA: 3:26 - loss: 0.114 - ETA: 3:20 - loss: 0.112 - ETA: 3:13 - loss: 0.112 - ETA: 3:06 - loss: 0.113 - ETA: 3:00 - loss: 0.112 - ETA: 2:53 - loss: 0.111 - ETA: 2:46 - loss: 0.112 - ETA: 2:39 - loss: 0.112 - ETA: 2:32 - loss: 0.113 - ETA: 2:26 - loss: 0.115 - ETA: 2:19 - loss: 0.113 - ETA: 2:12 - loss: 0.113 - ETA: 2:05 - loss: 0.113 - ETA: 1:59 - loss: 0.113 - ETA: 1:52 - loss: 0.112 - ETA: 1:45 - loss: 0.111 - ETA: 1:38 - loss: 0.110 - ETA: 1:31 - loss: 0.109 - ETA: 1:25 - loss: 0.108 - ETA: 1:18 - loss: 0.107 - ETA: 1:11 - loss: 0.108 - ETA: 1:04 - loss: 0.109 - ETA: 57s - loss: 0.109 - ETA: 51s - loss: 0.11 - ETA: 44s - loss: 0.11 - ETA: 37s - loss: 0.11 - ETA: 30s - loss: 0.10 - ETA: 23s - loss: 0.10 - ETA: 17s - loss: 0.10 - ETA: 10s - loss: 0.11 - ETA: 3s - loss: 0.1104 - 429s 7s/step - loss: 0.1111\n",
      "Epoch 10/10\n",
      "63/62 [==============================] - ETA: 7:00 - loss: 0.085 - ETA: 6:53 - loss: 0.092 - ETA: 6:47 - loss: 0.089 - ETA: 6:41 - loss: 0.111 - ETA: 6:33 - loss: 0.131 - ETA: 6:26 - loss: 0.134 - ETA: 6:18 - loss: 0.131 - ETA: 6:11 - loss: 0.128 - ETA: 6:04 - loss: 0.127 - ETA: 5:57 - loss: 0.125 - ETA: 5:50 - loss: 0.121 - ETA: 5:42 - loss: 0.115 - ETA: 5:35 - loss: 0.118 - ETA: 5:28 - loss: 0.116 - ETA: 5:22 - loss: 0.117 - ETA: 5:16 - loss: 0.121 - ETA: 5:10 - loss: 0.119 - ETA: 5:03 - loss: 0.122 - ETA: 4:56 - loss: 0.121 - ETA: 4:49 - loss: 0.123 - ETA: 4:42 - loss: 0.124 - ETA: 4:36 - loss: 0.126 - ETA: 4:30 - loss: 0.125 - ETA: 4:24 - loss: 0.121 - ETA: 4:17 - loss: 0.122 - ETA: 4:10 - loss: 0.120 - ETA: 4:03 - loss: 0.122 - ETA: 3:56 - loss: 0.119 - ETA: 3:49 - loss: 0.118 - ETA: 3:42 - loss: 0.116 - ETA: 3:35 - loss: 0.115 - ETA: 3:28 - loss: 0.112 - ETA: 3:22 - loss: 0.112 - ETA: 3:15 - loss: 0.113 - ETA: 3:08 - loss: 0.112 - ETA: 3:01 - loss: 0.111 - ETA: 2:54 - loss: 0.111 - ETA: 2:47 - loss: 0.113 - ETA: 2:40 - loss: 0.112 - ETA: 2:34 - loss: 0.112 - ETA: 2:27 - loss: 0.111 - ETA: 2:20 - loss: 0.111 - ETA: 2:13 - loss: 0.110 - ETA: 2:06 - loss: 0.110 - ETA: 1:59 - loss: 0.109 - ETA: 1:53 - loss: 0.109 - ETA: 1:46 - loss: 0.109 - ETA: 1:39 - loss: 0.112 - ETA: 1:32 - loss: 0.112 - ETA: 1:25 - loss: 0.113 - ETA: 1:18 - loss: 0.113 - ETA: 1:11 - loss: 0.112 - ETA: 1:05 - loss: 0.113 - ETA: 58s - loss: 0.113 - ETA: 51s - loss: 0.11 - ETA: 44s - loss: 0.11 - ETA: 37s - loss: 0.11 - ETA: 30s - loss: 0.11 - ETA: 23s - loss: 0.11 - ETA: 17s - loss: 0.11 - ETA: 10s - loss: 0.11 - ETA: 3s - loss: 0.1139 - 431s 7s/step - loss: 0.1144\n"
     ]
    },
    {
     "data": {
      "text/plain": [
       "<keras.callbacks.History at 0x1ed8069c5c0>"
      ]
     },
     "execution_count": 60,
     "metadata": {},
     "output_type": "execute_result"
    }
   ],
   "source": [
    "model.fit_generator(train_datagen.flow(train_x,train_y,steps_per_epoch=len(train_x)/128,epochs=10)"
   ]
  },
  {
   "cell_type": "code",
   "execution_count": 26,
   "metadata": {},
   "outputs": [
    {
     "name": "stdout",
     "output_type": "stream",
     "text": [
      "Train on 8000 samples, validate on 2000 samples\n",
      "Epoch 1/5\n",
      "8000/8000 [==============================] - ETA: 13:40 - loss: 0.08 - ETA: 12:04 - loss: 0.17 - ETA: 11:30 - loss: 0.16 - ETA: 12:01 - loss: 0.18 - ETA: 11:37 - loss: 0.19 - ETA: 11:11 - loss: 0.17 - ETA: 11:46 - loss: 0.16 - ETA: 11:41 - loss: 0.15 - ETA: 11:27 - loss: 0.15 - ETA: 12:07 - loss: 0.15 - ETA: 11:48 - loss: 0.16 - ETA: 11:42 - loss: 0.15 - ETA: 11:26 - loss: 0.15 - ETA: 11:13 - loss: 0.16 - ETA: 11:01 - loss: 0.16 - ETA: 10:47 - loss: 0.15 - ETA: 10:33 - loss: 0.15 - ETA: 10:24 - loss: 0.15 - ETA: 10:10 - loss: 0.15 - ETA: 9:55 - loss: 0.1520 - ETA: 9:53 - loss: 0.152 - ETA: 9:44 - loss: 0.151 - ETA: 9:35 - loss: 0.148 - ETA: 9:28 - loss: 0.149 - ETA: 9:19 - loss: 0.154 - ETA: 9:09 - loss: 0.152 - ETA: 8:57 - loss: 0.154 - ETA: 8:45 - loss: 0.153 - ETA: 8:33 - loss: 0.155 - ETA: 8:26 - loss: 0.154 - ETA: 8:18 - loss: 0.156 - ETA: 8:03 - loss: 0.154 - ETA: 7:53 - loss: 0.154 - ETA: 7:41 - loss: 0.151 - ETA: 7:29 - loss: 0.153 - ETA: 7:21 - loss: 0.150 - ETA: 7:13 - loss: 0.150 - ETA: 7:04 - loss: 0.148 - ETA: 6:59 - loss: 0.151 - ETA: 6:53 - loss: 0.149 - ETA: 6:41 - loss: 0.149 - ETA: 6:31 - loss: 0.149 - ETA: 6:21 - loss: 0.148 - ETA: 6:11 - loss: 0.148 - ETA: 6:05 - loss: 0.149 - ETA: 5:54 - loss: 0.149 - ETA: 5:43 - loss: 0.148 - ETA: 5:35 - loss: 0.147 - ETA: 5:24 - loss: 0.147 - ETA: 5:16 - loss: 0.149 - ETA: 5:05 - loss: 0.149 - ETA: 4:57 - loss: 0.148 - ETA: 4:46 - loss: 0.149 - ETA: 4:36 - loss: 0.149 - ETA: 4:25 - loss: 0.149 - ETA: 4:15 - loss: 0.149 - ETA: 4:03 - loss: 0.149 - ETA: 3:53 - loss: 0.149 - ETA: 3:42 - loss: 0.148 - ETA: 3:31 - loss: 0.147 - ETA: 3:20 - loss: 0.149 - ETA: 3:10 - loss: 0.149 - ETA: 2:59 - loss: 0.148 - ETA: 2:48 - loss: 0.150 - ETA: 2:37 - loss: 0.150 - ETA: 2:26 - loss: 0.149 - ETA: 2:15 - loss: 0.150 - ETA: 2:05 - loss: 0.150 - ETA: 1:54 - loss: 0.150 - ETA: 1:44 - loss: 0.150 - ETA: 1:33 - loss: 0.149 - ETA: 1:22 - loss: 0.150 - ETA: 1:12 - loss: 0.150 - ETA: 1:01 - loss: 0.150 - ETA: 51s - loss: 0.150 - ETA: 41s - loss: 0.15 - ETA: 30s - loss: 0.15 - ETA: 20s - loss: 0.14 - ETA: 10s - loss: 0.14 - 878s 110ms/step - loss: 0.1478 - val_loss: 0.0985\n",
      "Epoch 2/5\n",
      "8000/8000 [==============================] - ETA: 8:50 - loss: 0.132 - ETA: 9:11 - loss: 0.150 - ETA: 9:18 - loss: 0.181 - ETA: 9:14 - loss: 0.156 - ETA: 9:17 - loss: 0.164 - ETA: 9:14 - loss: 0.156 - ETA: 9:13 - loss: 0.157 - ETA: 9:07 - loss: 0.147 - ETA: 9:03 - loss: 0.154 - ETA: 8:58 - loss: 0.158 - ETA: 8:53 - loss: 0.152 - ETA: 8:49 - loss: 0.154 - ETA: 8:42 - loss: 0.153 - ETA: 8:34 - loss: 0.148 - ETA: 8:28 - loss: 0.142 - ETA: 8:21 - loss: 0.139 - ETA: 8:15 - loss: 0.139 - ETA: 8:11 - loss: 0.141 - ETA: 8:10 - loss: 0.137 - ETA: 8:03 - loss: 0.134 - ETA: 7:57 - loss: 0.132 - ETA: 7:51 - loss: 0.134 - ETA: 7:44 - loss: 0.131 - ETA: 7:35 - loss: 0.129 - ETA: 7:26 - loss: 0.127 - ETA: 7:17 - loss: 0.131 - ETA: 7:08 - loss: 0.129 - ETA: 6:58 - loss: 0.128 - ETA: 6:49 - loss: 0.130 - ETA: 6:40 - loss: 0.131 - ETA: 6:32 - loss: 0.131 - ETA: 6:23 - loss: 0.132 - ETA: 6:15 - loss: 0.131 - ETA: 6:08 - loss: 0.131 - ETA: 6:03 - loss: 0.130 - ETA: 5:56 - loss: 0.129 - ETA: 5:49 - loss: 0.128 - ETA: 5:42 - loss: 0.127 - ETA: 5:36 - loss: 0.126 - ETA: 5:30 - loss: 0.129 - ETA: 5:24 - loss: 0.128 - ETA: 5:17 - loss: 0.127 - ETA: 5:09 - loss: 0.125 - ETA: 5:01 - loss: 0.127 - ETA: 4:54 - loss: 0.126 - ETA: 4:46 - loss: 0.125 - ETA: 4:38 - loss: 0.125 - ETA: 4:31 - loss: 0.124 - ETA: 4:23 - loss: 0.125 - ETA: 4:15 - loss: 0.124 - ETA: 4:07 - loss: 0.124 - ETA: 3:59 - loss: 0.125 - ETA: 3:50 - loss: 0.124 - ETA: 3:42 - loss: 0.123 - ETA: 3:33 - loss: 0.124 - ETA: 3:24 - loss: 0.128 - ETA: 3:15 - loss: 0.129 - ETA: 3:07 - loss: 0.129 - ETA: 2:58 - loss: 0.130 - ETA: 2:49 - loss: 0.131 - ETA: 2:40 - loss: 0.133 - ETA: 2:32 - loss: 0.131 - ETA: 2:23 - loss: 0.132 - ETA: 2:15 - loss: 0.132 - ETA: 2:06 - loss: 0.132 - ETA: 1:58 - loss: 0.132 - ETA: 1:49 - loss: 0.133 - ETA: 1:41 - loss: 0.133 - ETA: 1:32 - loss: 0.134 - ETA: 1:24 - loss: 0.134 - ETA: 1:15 - loss: 0.133 - ETA: 1:07 - loss: 0.133 - ETA: 58s - loss: 0.135 - ETA: 50s - loss: 0.13 - ETA: 42s - loss: 0.13 - ETA: 33s - loss: 0.13 - ETA: 25s - loss: 0.13 - ETA: 16s - loss: 0.13 - ETA: 8s - loss: 0.1340 - 729s 91ms/step - loss: 0.1344 - val_loss: 0.0959\n",
      "Epoch 3/5\n",
      "8000/8000 [==============================] - ETA: 9:39 - loss: 0.124 - ETA: 9:36 - loss: 0.096 - ETA: 9:30 - loss: 0.096 - ETA: 9:25 - loss: 0.092 - ETA: 9:22 - loss: 0.098 - ETA: 9:16 - loss: 0.112 - ETA: 9:08 - loss: 0.110 - ETA: 9:01 - loss: 0.108 - ETA: 8:53 - loss: 0.109 - ETA: 8:44 - loss: 0.118 - ETA: 8:36 - loss: 0.124 - ETA: 8:28 - loss: 0.122 - ETA: 8:21 - loss: 0.124 - ETA: 8:13 - loss: 0.123 - ETA: 8:06 - loss: 0.121 - ETA: 8:00 - loss: 0.117 - ETA: 7:57 - loss: 0.121 - ETA: 7:50 - loss: 0.120 - ETA: 7:43 - loss: 0.117 - ETA: 7:35 - loss: 0.120 - ETA: 7:28 - loss: 0.118 - ETA: 7:20 - loss: 0.120 - ETA: 7:11 - loss: 0.119 - ETA: 7:04 - loss: 0.118 - ETA: 6:57 - loss: 0.117 - ETA: 6:50 - loss: 0.123 - ETA: 6:43 - loss: 0.120 - ETA: 6:36 - loss: 0.123 - ETA: 6:29 - loss: 0.126 - ETA: 6:22 - loss: 0.124 - ETA: 6:15 - loss: 0.123 - ETA: 6:07 - loss: 0.121 - ETA: 6:00 - loss: 0.119 - ETA: 5:53 - loss: 0.123 - ETA: 5:45 - loss: 0.124 - ETA: 5:38 - loss: 0.123 - ETA: 5:30 - loss: 0.122 - ETA: 5:23 - loss: 0.125 - ETA: 5:16 - loss: 0.125 - ETA: 5:09 - loss: 0.124 - ETA: 5:01 - loss: 0.124 - ETA: 4:53 - loss: 0.126 - ETA: 4:45 - loss: 0.126 - ETA: 4:38 - loss: 0.125 - ETA: 4:30 - loss: 0.124 - ETA: 4:22 - loss: 0.124 - ETA: 4:15 - loss: 0.124 - ETA: 4:07 - loss: 0.125 - ETA: 4:00 - loss: 0.125 - ETA: 3:52 - loss: 0.124 - ETA: 3:45 - loss: 0.124 - ETA: 3:37 - loss: 0.125 - ETA: 3:30 - loss: 0.125 - ETA: 3:22 - loss: 0.127 - ETA: 3:14 - loss: 0.126 - ETA: 3:06 - loss: 0.126 - ETA: 2:59 - loss: 0.126 - ETA: 2:51 - loss: 0.126 - ETA: 2:44 - loss: 0.125 - ETA: 2:36 - loss: 0.126 - ETA: 2:29 - loss: 0.127 - ETA: 2:21 - loss: 0.126 - ETA: 2:13 - loss: 0.127 - ETA: 2:05 - loss: 0.128 - ETA: 1:57 - loss: 0.128 - ETA: 1:49 - loss: 0.129 - ETA: 1:42 - loss: 0.129 - ETA: 1:34 - loss: 0.128 - ETA: 1:26 - loss: 0.127 - ETA: 1:18 - loss: 0.127 - ETA: 1:10 - loss: 0.127 - ETA: 1:03 - loss: 0.125 - ETA: 55s - loss: 0.126 - ETA: 47s - loss: 0.12 - ETA: 39s - loss: 0.12 - ETA: 31s - loss: 0.12 - ETA: 23s - loss: 0.12 - ETA: 15s - loss: 0.12 - ETA: 7s - loss: 0.1241 - 677s 85ms/step - loss: 0.1245 - val_loss: 0.0981\n",
      "Epoch 4/5\n",
      "8000/8000 [==============================] - ETA: 10:40 - loss: 0.10 - ETA: 10:18 - loss: 0.11 - ETA: 10:09 - loss: 0.10 - ETA: 9:57 - loss: 0.1012 - ETA: 9:48 - loss: 0.109 - ETA: 9:44 - loss: 0.117 - ETA: 9:33 - loss: 0.118 - ETA: 9:24 - loss: 0.121 - ETA: 9:16 - loss: 0.113 - ETA: 9:09 - loss: 0.107 - ETA: 9:00 - loss: 0.103 - ETA: 8:53 - loss: 0.102 - ETA: 8:44 - loss: 0.108 - ETA: 8:35 - loss: 0.108 - ETA: 8:25 - loss: 0.107 - ETA: 8:19 - loss: 0.105 - ETA: 8:15 - loss: 0.108 - ETA: 8:06 - loss: 0.107 - ETA: 7:57 - loss: 0.106 - ETA: 7:49 - loss: 0.110 - ETA: 7:41 - loss: 0.111 - ETA: 7:32 - loss: 0.109 - ETA: 7:25 - loss: 0.111 - ETA: 7:17 - loss: 0.111 - ETA: 7:08 - loss: 0.111 - ETA: 7:00 - loss: 0.115 - ETA: 6:51 - loss: 0.115 - ETA: 6:43 - loss: 0.116 - ETA: 6:34 - loss: 0.118 - ETA: 6:26 - loss: 0.120 - ETA: 6:18 - loss: 0.122 - ETA: 6:10 - loss: 0.121 - ETA: 6:02 - loss: 0.121 - ETA: 5:54 - loss: 0.120 - ETA: 5:48 - loss: 0.120 - ETA: 5:40 - loss: 0.119 - ETA: 5:32 - loss: 0.117 - ETA: 5:24 - loss: 0.116 - ETA: 5:15 - loss: 0.116 - ETA: 5:08 - loss: 0.115 - ETA: 5:00 - loss: 0.115 - ETA: 4:53 - loss: 0.115 - ETA: 4:45 - loss: 0.114 - ETA: 4:38 - loss: 0.113 - ETA: 4:30 - loss: 0.114 - ETA: 4:23 - loss: 0.114 - ETA: 4:14 - loss: 0.114 - ETA: 4:07 - loss: 0.113 - ETA: 3:59 - loss: 0.113 - ETA: 3:51 - loss: 0.113 - ETA: 3:44 - loss: 0.113 - ETA: 3:37 - loss: 0.114 - ETA: 3:29 - loss: 0.113 - ETA: 3:22 - loss: 0.113 - ETA: 3:14 - loss: 0.114 - ETA: 3:07 - loss: 0.114 - ETA: 2:59 - loss: 0.115 - ETA: 2:51 - loss: 0.114 - ETA: 2:43 - loss: 0.114 - ETA: 2:36 - loss: 0.113 - ETA: 2:28 - loss: 0.114 - ETA: 2:20 - loss: 0.114 - ETA: 2:12 - loss: 0.116 - ETA: 2:04 - loss: 0.117 - ETA: 1:56 - loss: 0.117 - ETA: 1:48 - loss: 0.116 - ETA: 1:40 - loss: 0.116 - ETA: 1:32 - loss: 0.116 - ETA: 1:25 - loss: 0.117 - ETA: 1:17 - loss: 0.117 - ETA: 1:09 - loss: 0.118 - ETA: 1:01 - loss: 0.119 - ETA: 54s - loss: 0.119 - ETA: 46s - loss: 0.11 - ETA: 38s - loss: 0.11 - ETA: 30s - loss: 0.11 - ETA: 23s - loss: 0.11 - ETA: 15s - loss: 0.11 - ETA: 7s - loss: 0.1190 - 666s 83ms/step - loss: 0.1193 - val_loss: 0.0928\n",
      "Epoch 5/5\n",
      "8000/8000 [==============================] - ETA: 9:32 - loss: 0.091 - ETA: 9:23 - loss: 0.081 - ETA: 9:14 - loss: 0.094 - ETA: 9:04 - loss: 0.097 - ETA: 8:55 - loss: 0.095 - ETA: 8:46 - loss: 0.098 - ETA: 8:47 - loss: 0.112 - ETA: 8:40 - loss: 0.107 - ETA: 8:34 - loss: 0.111 - ETA: 8:27 - loss: 0.109 - ETA: 8:22 - loss: 0.112 - ETA: 8:16 - loss: 0.117 - ETA: 8:08 - loss: 0.121 - ETA: 8:01 - loss: 0.119 - ETA: 7:55 - loss: 0.118 - ETA: 7:47 - loss: 0.122 - ETA: 7:39 - loss: 0.127 - ETA: 7:30 - loss: 0.126 - ETA: 7:24 - loss: 0.123 - ETA: 7:16 - loss: 0.120 - ETA: 7:11 - loss: 0.120 - ETA: 7:04 - loss: 0.120 - ETA: 6:58 - loss: 0.118 - ETA: 6:53 - loss: 0.116 - ETA: 6:45 - loss: 0.117 - ETA: 6:39 - loss: 0.119 - ETA: 6:31 - loss: 0.122 - ETA: 6:24 - loss: 0.122 - ETA: 6:16 - loss: 0.125 - ETA: 6:10 - loss: 0.127 - ETA: 6:03 - loss: 0.129 - ETA: 5:56 - loss: 0.132 - ETA: 5:48 - loss: 0.131 - ETA: 5:41 - loss: 0.129 - ETA: 5:33 - loss: 0.128 - ETA: 5:25 - loss: 0.127 - ETA: 5:17 - loss: 0.125 - ETA: 5:10 - loss: 0.123 - ETA: 5:03 - loss: 0.122 - ETA: 4:55 - loss: 0.122 - ETA: 4:48 - loss: 0.121 - ETA: 4:41 - loss: 0.120 - ETA: 4:34 - loss: 0.119 - ETA: 4:27 - loss: 0.119 - ETA: 4:20 - loss: 0.121 - ETA: 4:13 - loss: 0.122 - ETA: 4:05 - loss: 0.121 - ETA: 3:58 - loss: 0.119 - ETA: 3:50 - loss: 0.118 - ETA: 3:42 - loss: 0.117 - ETA: 3:35 - loss: 0.119 - ETA: 3:27 - loss: 0.118 - ETA: 3:20 - loss: 0.118 - ETA: 3:12 - loss: 0.118 - ETA: 3:05 - loss: 0.119 - ETA: 2:59 - loss: 0.121 - ETA: 2:52 - loss: 0.120 - ETA: 2:45 - loss: 0.119 - ETA: 2:38 - loss: 0.118 - ETA: 2:31 - loss: 0.118 - ETA: 2:25 - loss: 0.119 - ETA: 2:17 - loss: 0.118 - ETA: 2:10 - loss: 0.117 - ETA: 2:03 - loss: 0.117 - ETA: 1:56 - loss: 0.117 - ETA: 1:48 - loss: 0.117 - ETA: 1:41 - loss: 0.116 - ETA: 1:33 - loss: 0.116 - ETA: 1:26 - loss: 0.117 - ETA: 1:18 - loss: 0.117 - ETA: 1:11 - loss: 0.116 - ETA: 1:03 - loss: 0.115 - ETA: 55s - loss: 0.115 - ETA: 47s - loss: 0.11 - ETA: 39s - loss: 0.11 - ETA: 32s - loss: 0.11 - ETA: 24s - loss: 0.11 - ETA: 16s - loss: 0.11 - ETA: 8s - loss: 0.1138 - 705s 88ms/step - loss: 0.1144 - val_loss: 0.0970\n"
     ]
    },
    {
     "data": {
      "text/plain": [
       "<keras.callbacks.History at 0x244e32f2f98>"
      ]
     },
     "execution_count": 26,
     "metadata": {},
     "output_type": "execute_result"
    }
   ],
   "source": [
    "es=EarlyStopping(monitor='val_loss', min_delta=0, patience=2, verbose=0, mode='auto', baseline=None, restore_best_weights=True)\n",
    "model.fit(train_x,train_y,validation_data=[test_x,test_y],epochs=5,batch_size=batch_size,callbacks=[es])"
   ]
  },
  {
   "cell_type": "markdown",
   "metadata": {},
   "source": [
    "### Loading Data From 20,000 to 35,000:"
   ]
  },
  {
   "cell_type": "code",
   "execution_count": 32,
   "metadata": {},
   "outputs": [
    {
     "name": "stdout",
     "output_type": "stream",
     "text": [
      "Loading Data Start...\n",
      "No of image files: 45406\n",
      "No of labels appended: 45406\n",
      "Starting index of current batch: 20000\n",
      "End index of current batch: 35000\n",
      "No of image files for current batch: 15000\n"
     ]
    },
    {
     "data": {
      "application/vnd.jupyter.widget-view+json": {
       "model_id": "a680559b450f438595870cc5542b6139",
       "version_major": 2,
       "version_minor": 0
      },
      "text/plain": [
       "HBox(children=(IntProgress(value=0, max=15000), HTML(value='')))"
      ]
     },
     "metadata": {},
     "output_type": "display_data"
    },
    {
     "name": "stdout",
     "output_type": "stream",
     "text": [
      "Data loaded sucessfully.\n"
     ]
    }
   ],
   "source": [
    "x,y=load_data(20000,35000)"
   ]
  },
  {
   "cell_type": "code",
   "execution_count": 33,
   "metadata": {},
   "outputs": [],
   "source": [
    "train_x, test_x, train_y, test_y = train_test_split(x, y, random_state=0,\n",
    "                                                        test_size=0.2)"
   ]
  },
  {
   "cell_type": "code",
   "execution_count": 39,
   "metadata": {},
   "outputs": [
    {
     "name": "stdout",
     "output_type": "stream",
     "text": [
      "3000/3000 [==============================] - ETA: 3: - ETA: 2: - ETA: 3: - ETA: 3: - ETA: 2: - ETA: 2: - ETA: 2: - ETA: 2: - ETA: 2: - ETA: 2: - ETA: 2: - ETA: 2: - ETA: 2: - ETA: 2: - ETA: 2: - ETA: 2: - ETA: 2: - ETA: 2: - ETA: 2: - ETA: 2: - ETA: 2: - ETA: 2: - ETA: 2: - ETA: 1: - ETA: 1: - ETA: 1: - ETA: 1: - ETA: 1: - ETA: 1: - ETA: 1: - ETA: 1: - ETA: 1: - ETA: 1: - ETA: 1: - ETA: 1: - ETA: 1: - ETA: 1: - ETA: 1: - ETA: 1: - ETA: 1: - ETA: 1: - ETA: 1: - ETA: 1: - ETA: 1: - ETA: 1: - ETA: 1: - ETA: 1: - ETA: 1: - ETA: 1: - ETA: 1: - ETA: 1: - ETA: 1: - ETA: 1: - ETA: 1: - ETA: 1: - ETA: 1: - ETA: 1: - ETA: 1: - ETA: 1: - ETA: 1: - ETA: 59s - ETA: 57 - ETA: 55 - ETA: 52 - ETA: 50 - ETA: 48 - ETA: 46 - ETA: 44 - ETA: 42 - ETA: 40 - ETA: 38 - ETA: 37 - ETA: 35 - ETA: 33 - ETA: 31 - ETA: 29 - ETA: 27 - ETA: 25 - ETA: 23 - ETA: 22 - ETA: 20 - ETA: 18 - ETA: 17 - ETA: 15 - ETA: 14 - ETA: 12 - ETA: 11 - ETA: 9 - ETA:  - ETA:  - ETA:  - ETA:  - ETA:  - 152s 51ms/step\n"
     ]
    },
    {
     "data": {
      "text/plain": [
       "0.23768171318372092"
      ]
     },
     "execution_count": 39,
     "metadata": {},
     "output_type": "execute_result"
    }
   ],
   "source": [
    "model.evaluate(test_x,test_y)"
   ]
  },
  {
   "cell_type": "markdown",
   "metadata": {},
   "source": [
    "#### Epoch 1 to 5 with batch3(20,000 to 35,000 datapoints)"
   ]
  },
  {
   "cell_type": "code",
   "execution_count": 40,
   "metadata": {},
   "outputs": [
    {
     "name": "stdout",
     "output_type": "stream",
     "text": [
      "Train on 12000 samples, validate on 3000 samples\n",
      "Epoch 1/5\n",
      "12000/12000 [==============================] - ETA: 17:21 - loss: 0.21 - ETA: 17:03 - loss: 0.23 - ETA: 16:39 - loss: 0.22 - ETA: 16:23 - loss: 0.22 - ETA: 16:11 - loss: 0.23 - ETA: 16:20 - loss: 0.24 - ETA: 16:02 - loss: 0.24 - ETA: 15:52 - loss: 0.25 - ETA: 15:30 - loss: 0.25 - ETA: 15:10 - loss: 0.25 - ETA: 14:53 - loss: 0.25 - ETA: 14:45 - loss: 0.25 - ETA: 14:28 - loss: 0.24 - ETA: 14:09 - loss: 0.24 - ETA: 13:58 - loss: 0.24 - ETA: 13:37 - loss: 0.24 - ETA: 13:17 - loss: 0.24 - ETA: 13:04 - loss: 0.24 - ETA: 12:42 - loss: 0.24 - ETA: 12:32 - loss: 0.24 - ETA: 12:15 - loss: 0.24 - ETA: 11:55 - loss: 0.24 - ETA: 11:36 - loss: 0.24 - ETA: 11:16 - loss: 0.24 - ETA: 10:57 - loss: 0.24 - ETA: 10:37 - loss: 0.24 - ETA: 10:19 - loss: 0.24 - ETA: 10:01 - loss: 0.24 - ETA: 9:42 - loss: 0.2484 - ETA: 9:24 - loss: 0.247 - ETA: 9:05 - loss: 0.248 - ETA: 8:47 - loss: 0.248 - ETA: 8:27 - loss: 0.246 - ETA: 8:09 - loss: 0.245 - ETA: 7:49 - loss: 0.243 - ETA: 7:30 - loss: 0.241 - ETA: 7:11 - loss: 0.244 - ETA: 6:52 - loss: 0.245 - ETA: 6:33 - loss: 0.245 - ETA: 6:14 - loss: 0.244 - ETA: 5:55 - loss: 0.243 - ETA: 5:36 - loss: 0.245 - ETA: 5:17 - loss: 0.245 - ETA: 4:58 - loss: 0.244 - ETA: 4:40 - loss: 0.246 - ETA: 4:21 - loss: 0.246 - ETA: 4:02 - loss: 0.244 - ETA: 3:43 - loss: 0.244 - ETA: 3:25 - loss: 0.243 - ETA: 3:06 - loss: 0.242 - ETA: 2:47 - loss: 0.241 - ETA: 2:29 - loss: 0.240 - ETA: 2:10 - loss: 0.240 - ETA: 1:51 - loss: 0.241 - ETA: 1:32 - loss: 0.241 - ETA: 1:14 - loss: 0.241 - ETA: 55s - loss: 0.242 - ETA: 37s - loss: 0.24 - ETA: 18s - loss: 0.24 - 1213s 101ms/step - loss: 0.2423 - val_loss: 0.2088\n",
      "Epoch 2/5\n",
      "12000/12000 [==============================] - ETA: 17:34 - loss: 0.16 - ETA: 16:55 - loss: 0.17 - ETA: 16:40 - loss: 0.21 - ETA: 16:08 - loss: 0.21 - ETA: 15:55 - loss: 0.23 - ETA: 15:36 - loss: 0.23 - ETA: 15:24 - loss: 0.22 - ETA: 15:05 - loss: 0.23 - ETA: 14:52 - loss: 0.23 - ETA: 14:36 - loss: 0.23 - ETA: 14:23 - loss: 0.23 - ETA: 14:09 - loss: 0.23 - ETA: 13:54 - loss: 0.23 - ETA: 13:36 - loss: 0.23 - ETA: 13:18 - loss: 0.23 - ETA: 12:58 - loss: 0.23 - ETA: 12:39 - loss: 0.23 - ETA: 12:22 - loss: 0.23 - ETA: 12:03 - loss: 0.22 - ETA: 11:45 - loss: 0.23 - ETA: 11:28 - loss: 0.23 - ETA: 11:09 - loss: 0.22 - ETA: 10:52 - loss: 0.22 - ETA: 10:35 - loss: 0.22 - ETA: 10:17 - loss: 0.22 - ETA: 9:58 - loss: 0.2256 - ETA: 9:40 - loss: 0.224 - ETA: 9:22 - loss: 0.224 - ETA: 9:04 - loss: 0.227 - ETA: 8:47 - loss: 0.228 - ETA: 8:29 - loss: 0.230 - ETA: 8:12 - loss: 0.230 - ETA: 7:54 - loss: 0.230 - ETA: 7:37 - loss: 0.228 - ETA: 7:19 - loss: 0.228 - ETA: 7:02 - loss: 0.228 - ETA: 6:45 - loss: 0.229 - ETA: 6:27 - loss: 0.230 - ETA: 6:10 - loss: 0.231 - ETA: 5:52 - loss: 0.230 - ETA: 5:34 - loss: 0.229 - ETA: 5:17 - loss: 0.228 - ETA: 5:00 - loss: 0.228 - ETA: 4:43 - loss: 0.228 - ETA: 4:25 - loss: 0.229 - ETA: 4:08 - loss: 0.228 - ETA: 3:50 - loss: 0.227 - ETA: 3:32 - loss: 0.228 - ETA: 3:14 - loss: 0.227 - ETA: 2:57 - loss: 0.226 - ETA: 2:39 - loss: 0.225 - ETA: 2:21 - loss: 0.225 - ETA: 2:04 - loss: 0.225 - ETA: 1:46 - loss: 0.224 - ETA: 1:28 - loss: 0.223 - ETA: 1:10 - loss: 0.223 - ETA: 52s - loss: 0.223 - ETA: 35s - loss: 0.22 - ETA: 17s - loss: 0.22 - 1128s 94ms/step - loss: 0.2237 - val_loss: 0.1974\n",
      "Epoch 3/5\n",
      "12000/12000 [==============================] - ETA: 15:04 - loss: 0.25 - ETA: 14:52 - loss: 0.21 - ETA: 14:50 - loss: 0.20 - ETA: 14:41 - loss: 0.20 - ETA: 14:27 - loss: 0.21 - ETA: 14:14 - loss: 0.20 - ETA: 14:03 - loss: 0.20 - ETA: 13:47 - loss: 0.21 - ETA: 13:42 - loss: 0.22 - ETA: 13:28 - loss: 0.22 - ETA: 13:12 - loss: 0.22 - ETA: 12:55 - loss: 0.22 - ETA: 12:44 - loss: 0.22 - ETA: 12:30 - loss: 0.22 - ETA: 12:13 - loss: 0.22 - ETA: 11:55 - loss: 0.22 - ETA: 11:36 - loss: 0.21 - ETA: 11:21 - loss: 0.21 - ETA: 11:04 - loss: 0.21 - ETA: 10:46 - loss: 0.21 - ETA: 10:28 - loss: 0.21 - ETA: 10:11 - loss: 0.21 - ETA: 9:54 - loss: 0.2180 - ETA: 9:38 - loss: 0.217 - ETA: 9:21 - loss: 0.217 - ETA: 9:05 - loss: 0.216 - ETA: 8:49 - loss: 0.218 - ETA: 8:33 - loss: 0.218 - ETA: 8:17 - loss: 0.217 - ETA: 8:01 - loss: 0.218 - ETA: 7:45 - loss: 0.219 - ETA: 7:30 - loss: 0.217 - ETA: 7:13 - loss: 0.216 - ETA: 6:57 - loss: 0.216 - ETA: 6:41 - loss: 0.214 - ETA: 6:25 - loss: 0.214 - ETA: 6:09 - loss: 0.214 - ETA: 5:53 - loss: 0.213 - ETA: 5:37 - loss: 0.213 - ETA: 5:20 - loss: 0.214 - ETA: 5:04 - loss: 0.215 - ETA: 4:48 - loss: 0.214 - ETA: 4:31 - loss: 0.212 - ETA: 4:15 - loss: 0.211 - ETA: 3:59 - loss: 0.211 - ETA: 3:43 - loss: 0.211 - ETA: 3:27 - loss: 0.212 - ETA: 3:11 - loss: 0.211 - ETA: 2:55 - loss: 0.213 - ETA: 2:39 - loss: 0.212 - ETA: 2:23 - loss: 0.212 - ETA: 2:07 - loss: 0.213 - ETA: 1:51 - loss: 0.213 - ETA: 1:35 - loss: 0.212 - ETA: 1:19 - loss: 0.211 - ETA: 1:03 - loss: 0.210 - ETA: 47s - loss: 0.211 - ETA: 31s - loss: 0.21 - ETA: 15s - loss: 0.21 - 1024s 85ms/step - loss: 0.2105 - val_loss: 0.1883\n",
      "Epoch 4/5\n",
      "12000/12000 [==============================] - ETA: 15:43 - loss: 0.17 - ETA: 15:35 - loss: 0.22 - ETA: 15:14 - loss: 0.20 - ETA: 14:44 - loss: 0.22 - ETA: 14:21 - loss: 0.22 - ETA: 14:00 - loss: 0.22 - ETA: 13:41 - loss: 0.21 - ETA: 13:24 - loss: 0.21 - ETA: 13:06 - loss: 0.22 - ETA: 12:49 - loss: 0.22 - ETA: 12:32 - loss: 0.21 - ETA: 12:22 - loss: 0.21 - ETA: 12:08 - loss: 0.21 - ETA: 11:58 - loss: 0.21 - ETA: 11:49 - loss: 0.21 - ETA: 11:40 - loss: 0.21 - ETA: 11:28 - loss: 0.21 - ETA: 11:14 - loss: 0.21 - ETA: 11:02 - loss: 0.20 - ETA: 10:48 - loss: 0.20 - ETA: 10:34 - loss: 0.20 - ETA: 10:19 - loss: 0.21 - ETA: 10:03 - loss: 0.21 - ETA: 9:46 - loss: 0.2083 - ETA: 9:30 - loss: 0.210 - ETA: 9:14 - loss: 0.212 - ETA: 8:56 - loss: 0.212 - ETA: 8:42 - loss: 0.210 - ETA: 8:25 - loss: 0.209 - ETA: 8:09 - loss: 0.209 - ETA: 7:52 - loss: 0.208 - ETA: 7:35 - loss: 0.206 - ETA: 7:18 - loss: 0.204 - ETA: 7:01 - loss: 0.203 - ETA: 6:44 - loss: 0.202 - ETA: 6:28 - loss: 0.203 - ETA: 6:11 - loss: 0.204 - ETA: 5:55 - loss: 0.203 - ETA: 5:39 - loss: 0.201 - ETA: 5:22 - loss: 0.202 - ETA: 5:07 - loss: 0.201 - ETA: 4:51 - loss: 0.201 - ETA: 4:34 - loss: 0.201 - ETA: 4:18 - loss: 0.200 - ETA: 4:02 - loss: 0.201 - ETA: 3:45 - loss: 0.201 - ETA: 3:29 - loss: 0.201 - ETA: 3:13 - loss: 0.202 - ETA: 2:57 - loss: 0.202 - ETA: 2:41 - loss: 0.202 - ETA: 2:24 - loss: 0.202 - ETA: 2:08 - loss: 0.202 - ETA: 1:52 - loss: 0.202 - ETA: 1:36 - loss: 0.203 - ETA: 1:20 - loss: 0.202 - ETA: 1:04 - loss: 0.201 - ETA: 48s - loss: 0.200 - ETA: 32s - loss: 0.20 - ETA: 16s - loss: 0.20 - 1035s 86ms/step - loss: 0.2007 - val_loss: 0.1811\n",
      "Epoch 5/5\n",
      "12000/12000 [==============================] - ETA: 15:36 - loss: 0.15 - ETA: 15:09 - loss: 0.17 - ETA: 14:48 - loss: 0.16 - ETA: 14:30 - loss: 0.18 - ETA: 14:14 - loss: 0.19 - ETA: 13:57 - loss: 0.19 - ETA: 13:41 - loss: 0.19 - ETA: 13:24 - loss: 0.20 - ETA: 13:10 - loss: 0.20 - ETA: 12:56 - loss: 0.20 - ETA: 12:40 - loss: 0.19 - ETA: 12:25 - loss: 0.19 - ETA: 12:10 - loss: 0.19 - ETA: 11:57 - loss: 0.19 - ETA: 11:42 - loss: 0.19 - ETA: 11:25 - loss: 0.19 - ETA: 11:09 - loss: 0.19 - ETA: 10:54 - loss: 0.19 - ETA: 10:38 - loss: 0.19 - ETA: 10:23 - loss: 0.19 - ETA: 10:07 - loss: 0.19 - ETA: 9:51 - loss: 0.1979 - ETA: 9:36 - loss: 0.198 - ETA: 9:20 - loss: 0.197 - ETA: 9:05 - loss: 0.198 - ETA: 8:49 - loss: 0.196 - ETA: 8:33 - loss: 0.197 - ETA: 8:18 - loss: 0.199 - ETA: 8:02 - loss: 0.197 - ETA: 7:47 - loss: 0.195 - ETA: 7:31 - loss: 0.194 - ETA: 7:16 - loss: 0.194 - ETA: 7:00 - loss: 0.192 - ETA: 6:45 - loss: 0.191 - ETA: 6:29 - loss: 0.191 - ETA: 6:13 - loss: 0.190 - ETA: 5:58 - loss: 0.190 - ETA: 5:42 - loss: 0.189 - ETA: 5:26 - loss: 0.188 - ETA: 5:11 - loss: 0.189 - ETA: 4:55 - loss: 0.188 - ETA: 4:40 - loss: 0.189 - ETA: 4:24 - loss: 0.190 - ETA: 4:09 - loss: 0.191 - ETA: 3:53 - loss: 0.192 - ETA: 3:38 - loss: 0.191 - ETA: 3:22 - loss: 0.191 - ETA: 3:06 - loss: 0.191 - ETA: 2:51 - loss: 0.190 - ETA: 2:35 - loss: 0.191 - ETA: 2:20 - loss: 0.191 - ETA: 2:04 - loss: 0.192 - ETA: 1:49 - loss: 0.193 - ETA: 1:33 - loss: 0.193 - ETA: 1:17 - loss: 0.192 - ETA: 1:02 - loss: 0.192 - ETA: 46s - loss: 0.192 - ETA: 31s - loss: 0.19 - ETA: 15s - loss: 0.19 - 1008s 84ms/step - loss: 0.1912 - val_loss: 0.1727\n"
     ]
    },
    {
     "data": {
      "text/plain": [
       "<keras.callbacks.History at 0x244e8dfce48>"
      ]
     },
     "execution_count": 40,
     "metadata": {},
     "output_type": "execute_result"
    }
   ],
   "source": [
    "es=EarlyStopping(monitor='val_loss', min_delta=0, patience=2, verbose=0, mode='auto', baseline=None, restore_best_weights=True)\n",
    "model.fit(train_x,train_y,validation_data=[test_x,test_y],epochs=5,batch_size=200,callbacks=[es])"
   ]
  },
  {
   "cell_type": "code",
   "execution_count": 41,
   "metadata": {},
   "outputs": [
    {
     "name": "stdout",
     "output_type": "stream",
     "text": [
      "3000/3000 [==============================] - ETA: 57 - ETA: 52 - ETA: 49 - ETA: 47 - ETA: 45 - ETA: 45 - ETA: 44 - ETA: 44 - ETA: 43 - ETA: 42 - ETA: 42 - ETA: 42 - ETA: 42 - ETA: 42 - ETA: 42 - ETA: 42 - ETA: 42 - ETA: 42 - ETA: 42 - ETA: 42 - ETA: 42 - ETA: 42 - ETA: 42 - ETA: 41 - ETA: 41 - ETA: 41 - ETA: 41 - ETA: 40 - ETA: 40 - ETA: 40 - ETA: 40 - ETA: 39 - ETA: 39 - ETA: 38 - ETA: 38 - ETA: 37 - ETA: 37 - ETA: 36 - ETA: 36 - ETA: 35 - ETA: 34 - ETA: 34 - ETA: 33 - ETA: 32 - ETA: 32 - ETA: 31 - ETA: 31 - ETA: 30 - ETA: 29 - ETA: 29 - ETA: 28 - ETA: 27 - ETA: 27 - ETA: 26 - ETA: 25 - ETA: 25 - ETA: 24 - ETA: 23 - ETA: 23 - ETA: 22 - ETA: 21 - ETA: 21 - ETA: 20 - ETA: 19 - ETA: 19 - ETA: 18 - ETA: 17 - ETA: 17 - ETA: 16 - ETA: 15 - ETA: 15 - ETA: 14 - ETA: 13 - ETA: 13 - ETA: 12 - ETA: 11 - ETA: 11 - ETA: 10 - ETA: 9 - ETA:  - ETA:  - ETA:  - ETA:  - ETA:  - ETA:  - ETA:  - ETA:  - ETA:  - ETA:  - ETA:  - ETA:  - ETA:  - ETA:  - 63s 21ms/step\n"
     ]
    },
    {
     "data": {
      "text/plain": [
       "0.1727147475083669"
      ]
     },
     "execution_count": 41,
     "metadata": {},
     "output_type": "execute_result"
    }
   ],
   "source": [
    "model.evaluate(test_x,test_y)"
   ]
  },
  {
   "cell_type": "code",
   "execution_count": 44,
   "metadata": {},
   "outputs": [],
   "source": [
    "model.save('model_0.17_loss.h5')"
   ]
  },
  {
   "cell_type": "markdown",
   "metadata": {},
   "source": [
    "### Loading Data From 35,000 to 45,000:"
   ]
  },
  {
   "cell_type": "code",
   "execution_count": 45,
   "metadata": {},
   "outputs": [
    {
     "name": "stdout",
     "output_type": "stream",
     "text": [
      "Loading Data Start...\n",
      "No of image files: 45406\n",
      "No of labels appended: 45406\n",
      "Starting index of current batch: 35000\n",
      "End index of current batch: 45000\n",
      "No of image files for current batch: 10000\n"
     ]
    },
    {
     "data": {
      "application/vnd.jupyter.widget-view+json": {
       "model_id": "6e9234bbb0a147c9b9664fd899f4022c",
       "version_major": 2,
       "version_minor": 0
      },
      "text/plain": [
       "HBox(children=(IntProgress(value=0, max=10000), HTML(value='')))"
      ]
     },
     "metadata": {},
     "output_type": "display_data"
    },
    {
     "name": "stdout",
     "output_type": "stream",
     "text": [
      "Data loaded sucessfully.\n"
     ]
    }
   ],
   "source": [
    "x,y=load_data(35000,45000)\n",
    "train_x, test_x, train_y, test_y = train_test_split(x, y, random_state=0,\n",
    "                                                        test_size=0.2)"
   ]
  },
  {
   "cell_type": "markdown",
   "metadata": {},
   "source": [
    "#### Epoch 1 to 5 with batch3(35,000 to 45,000 datapoints)"
   ]
  },
  {
   "cell_type": "code",
   "execution_count": 48,
   "metadata": {},
   "outputs": [
    {
     "name": "stdout",
     "output_type": "stream",
     "text": [
      "Train on 8000 samples, validate on 2000 samples\n",
      "Epoch 1/5\n",
      "8000/8000 [==============================] - ETA: 14:59 - loss: 0.52 - ETA: 13:11 - loss: 0.39 - ETA: 12:58 - loss: 0.32 - ETA: 12:19 - loss: 0.26 - ETA: 12:00 - loss: 0.23 - ETA: 11:42 - loss: 0.22 - ETA: 11:21 - loss: 0.22 - ETA: 11:04 - loss: 0.22 - ETA: 10:48 - loss: 0.22 - ETA: 10:35 - loss: 0.21 - ETA: 10:21 - loss: 0.21 - ETA: 10:07 - loss: 0.21 - ETA: 9:59 - loss: 0.2141 - ETA: 9:48 - loss: 0.224 - ETA: 9:39 - loss: 0.224 - ETA: 9:27 - loss: 0.230 - ETA: 9:18 - loss: 0.229 - ETA: 9:12 - loss: 0.237 - ETA: 9:03 - loss: 0.236 - ETA: 8:55 - loss: 0.234 - ETA: 8:48 - loss: 0.233 - ETA: 8:40 - loss: 0.229 - ETA: 8:34 - loss: 0.225 - ETA: 8:29 - loss: 0.223 - ETA: 8:20 - loss: 0.218 - ETA: 8:10 - loss: 0.220 - ETA: 8:02 - loss: 0.220 - ETA: 7:53 - loss: 0.228 - ETA: 7:43 - loss: 0.224 - ETA: 7:33 - loss: 0.223 - ETA: 7:23 - loss: 0.223 - ETA: 7:13 - loss: 0.223 - ETA: 7:04 - loss: 0.229 - ETA: 6:55 - loss: 0.225 - ETA: 6:45 - loss: 0.225 - ETA: 6:36 - loss: 0.224 - ETA: 6:28 - loss: 0.224 - ETA: 6:19 - loss: 0.224 - ETA: 6:11 - loss: 0.225 - ETA: 6:03 - loss: 0.226 - ETA: 5:54 - loss: 0.225 - ETA: 5:45 - loss: 0.224 - ETA: 5:35 - loss: 0.225 - ETA: 5:26 - loss: 0.227 - ETA: 5:17 - loss: 0.226 - ETA: 5:08 - loss: 0.225 - ETA: 4:59 - loss: 0.223 - ETA: 4:50 - loss: 0.224 - ETA: 4:42 - loss: 0.223 - ETA: 4:32 - loss: 0.222 - ETA: 4:23 - loss: 0.221 - ETA: 4:14 - loss: 0.221 - ETA: 4:05 - loss: 0.222 - ETA: 3:56 - loss: 0.221 - ETA: 3:48 - loss: 0.221 - ETA: 3:38 - loss: 0.224 - ETA: 3:29 - loss: 0.225 - ETA: 3:20 - loss: 0.223 - ETA: 3:11 - loss: 0.222 - ETA: 3:02 - loss: 0.222 - ETA: 2:53 - loss: 0.221 - ETA: 2:43 - loss: 0.219 - ETA: 2:34 - loss: 0.219 - ETA: 2:25 - loss: 0.219 - ETA: 2:16 - loss: 0.218 - ETA: 2:07 - loss: 0.216 - ETA: 1:58 - loss: 0.216 - ETA: 1:49 - loss: 0.214 - ETA: 1:40 - loss: 0.213 - ETA: 1:31 - loss: 0.214 - ETA: 1:21 - loss: 0.214 - ETA: 1:12 - loss: 0.214 - ETA: 1:03 - loss: 0.213 - ETA: 54s - loss: 0.213 - ETA: 45s - loss: 0.21 - ETA: 36s - loss: 0.21 - ETA: 27s - loss: 0.21 - ETA: 18s - loss: 0.21 - ETA: 9s - loss: 0.2097 - 781s 98ms/step - loss: 0.2108 - val_loss: 0.1759\n",
      "Epoch 2/5\n",
      "8000/8000 [==============================] - ETA: 10:54 - loss: 0.25 - ETA: 10:48 - loss: 0.18 - ETA: 10:44 - loss: 0.21 - ETA: 10:37 - loss: 0.19 - ETA: 10:24 - loss: 0.18 - ETA: 10:15 - loss: 0.19 - ETA: 10:11 - loss: 0.18 - ETA: 10:12 - loss: 0.19 - ETA: 10:16 - loss: 0.18 - ETA: 10:16 - loss: 0.18 - ETA: 10:13 - loss: 0.17 - ETA: 10:08 - loss: 0.17 - ETA: 10:03 - loss: 0.17 - ETA: 9:57 - loss: 0.1771 - ETA: 9:50 - loss: 0.173 - ETA: 9:43 - loss: 0.171 - ETA: 9:36 - loss: 0.176 - ETA: 9:29 - loss: 0.178 - ETA: 9:21 - loss: 0.183 - ETA: 9:12 - loss: 0.179 - ETA: 9:04 - loss: 0.179 - ETA: 8:56 - loss: 0.185 - ETA: 8:48 - loss: 0.184 - ETA: 8:40 - loss: 0.189 - ETA: 8:31 - loss: 0.198 - ETA: 8:22 - loss: 0.199 - ETA: 8:14 - loss: 0.199 - ETA: 8:05 - loss: 0.197 - ETA: 7:56 - loss: 0.195 - ETA: 7:47 - loss: 0.199 - ETA: 7:38 - loss: 0.201 - ETA: 7:29 - loss: 0.199 - ETA: 7:20 - loss: 0.196 - ETA: 7:11 - loss: 0.195 - ETA: 7:01 - loss: 0.196 - ETA: 6:52 - loss: 0.196 - ETA: 6:43 - loss: 0.194 - ETA: 6:34 - loss: 0.191 - ETA: 6:25 - loss: 0.193 - ETA: 6:16 - loss: 0.195 - ETA: 6:07 - loss: 0.195 - ETA: 5:58 - loss: 0.194 - ETA: 5:49 - loss: 0.197 - ETA: 5:39 - loss: 0.195 - ETA: 5:30 - loss: 0.193 - ETA: 5:21 - loss: 0.193 - ETA: 5:11 - loss: 0.192 - ETA: 5:02 - loss: 0.195 - ETA: 4:53 - loss: 0.194 - ETA: 4:44 - loss: 0.195 - ETA: 4:35 - loss: 0.195 - ETA: 4:26 - loss: 0.196 - ETA: 4:16 - loss: 0.196 - ETA: 4:07 - loss: 0.197 - ETA: 3:57 - loss: 0.197 - ETA: 3:48 - loss: 0.196 - ETA: 3:38 - loss: 0.195 - ETA: 3:29 - loss: 0.194 - ETA: 3:20 - loss: 0.193 - ETA: 3:10 - loss: 0.197 - ETA: 3:01 - loss: 0.196 - ETA: 2:51 - loss: 0.197 - ETA: 2:42 - loss: 0.196 - ETA: 2:32 - loss: 0.195 - ETA: 2:23 - loss: 0.195 - ETA: 2:13 - loss: 0.195 - ETA: 2:04 - loss: 0.194 - ETA: 1:54 - loss: 0.194 - ETA: 1:45 - loss: 0.193 - ETA: 1:35 - loss: 0.192 - ETA: 1:25 - loss: 0.192 - ETA: 1:16 - loss: 0.190 - ETA: 1:06 - loss: 0.189 - ETA: 57s - loss: 0.188 - ETA: 47s - loss: 0.18 - ETA: 38s - loss: 0.18 - ETA: 28s - loss: 0.18 - ETA: 19s - loss: 0.18 - ETA: 9s - loss: 0.1892 - 826s 103ms/step - loss: 0.1900 - val_loss: 0.1650\n",
      "Epoch 3/5\n",
      "8000/8000 [==============================] - ETA: 12:41 - loss: 0.26 - ETA: 12:29 - loss: 0.28 - ETA: 12:19 - loss: 0.22 - ETA: 12:10 - loss: 0.20 - ETA: 12:02 - loss: 0.20 - ETA: 11:53 - loss: 0.20 - ETA: 11:45 - loss: 0.19 - ETA: 11:34 - loss: 0.20 - ETA: 11:24 - loss: 0.19 - ETA: 11:14 - loss: 0.19 - ETA: 11:04 - loss: 0.19 - ETA: 10:53 - loss: 0.20 - ETA: 10:44 - loss: 0.20 - ETA: 10:34 - loss: 0.20 - ETA: 10:24 - loss: 0.19 - ETA: 10:15 - loss: 0.19 - ETA: 10:06 - loss: 0.19 - ETA: 9:57 - loss: 0.1917 - ETA: 9:47 - loss: 0.187 - ETA: 9:37 - loss: 0.185 - ETA: 9:28 - loss: 0.187 - ETA: 9:18 - loss: 0.188 - ETA: 9:08 - loss: 0.185 - ETA: 8:58 - loss: 0.189 - ETA: 8:49 - loss: 0.188 - ETA: 8:39 - loss: 0.187 - ETA: 8:30 - loss: 0.183 - ETA: 8:20 - loss: 0.182 - ETA: 8:11 - loss: 0.179 - ETA: 8:01 - loss: 0.178 - ETA: 7:51 - loss: 0.177 - ETA: 7:42 - loss: 0.177 - ETA: 7:32 - loss: 0.176 - ETA: 7:22 - loss: 0.179 - ETA: 7:13 - loss: 0.178 - ETA: 7:03 - loss: 0.178 - ETA: 6:53 - loss: 0.179 - ETA: 6:44 - loss: 0.179 - ETA: 6:34 - loss: 0.183 - ETA: 6:24 - loss: 0.186 - ETA: 6:15 - loss: 0.187 - ETA: 6:05 - loss: 0.188 - ETA: 5:56 - loss: 0.190 - ETA: 5:46 - loss: 0.188 - ETA: 5:36 - loss: 0.188 - ETA: 5:26 - loss: 0.186 - ETA: 5:17 - loss: 0.185 - ETA: 5:07 - loss: 0.183 - ETA: 4:58 - loss: 0.185 - ETA: 4:48 - loss: 0.183 - ETA: 4:38 - loss: 0.181 - ETA: 4:29 - loss: 0.182 - ETA: 4:19 - loss: 0.183 - ETA: 4:10 - loss: 0.183 - ETA: 4:00 - loss: 0.183 - ETA: 3:50 - loss: 0.183 - ETA: 3:41 - loss: 0.183 - ETA: 3:31 - loss: 0.183 - ETA: 3:22 - loss: 0.182 - ETA: 3:12 - loss: 0.181 - ETA: 3:02 - loss: 0.183 - ETA: 2:53 - loss: 0.182 - ETA: 2:43 - loss: 0.183 - ETA: 2:33 - loss: 0.183 - ETA: 2:24 - loss: 0.181 - ETA: 2:14 - loss: 0.182 - ETA: 2:04 - loss: 0.181 - ETA: 1:55 - loss: 0.181 - ETA: 1:45 - loss: 0.181 - ETA: 1:36 - loss: 0.181 - ETA: 1:26 - loss: 0.180 - ETA: 1:16 - loss: 0.179 - ETA: 1:07 - loss: 0.178 - ETA: 57s - loss: 0.177 - ETA: 48s - loss: 0.17 - ETA: 38s - loss: 0.17 - ETA: 28s - loss: 0.17 - ETA: 19s - loss: 0.17 - ETA: 9s - loss: 0.1774 - 809s 101ms/step - loss: 0.1775 - val_loss: 0.1581\n",
      "Epoch 4/5\n",
      "8000/8000 [==============================] - ETA: 9:07 - loss: 0.228 - ETA: 9:12 - loss: 0.209 - ETA: 9:15 - loss: 0.184 - ETA: 9:19 - loss: 0.191 - ETA: 9:27 - loss: 0.192 - ETA: 9:20 - loss: 0.178 - ETA: 9:10 - loss: 0.182 - ETA: 9:02 - loss: 0.175 - ETA: 8:54 - loss: 0.182 - ETA: 8:44 - loss: 0.177 - ETA: 8:32 - loss: 0.173 - ETA: 8:22 - loss: 0.170 - ETA: 8:12 - loss: 0.165 - ETA: 8:04 - loss: 0.160 - ETA: 7:56 - loss: 0.157 - ETA: 7:48 - loss: 0.162 - ETA: 7:39 - loss: 0.157 - ETA: 7:29 - loss: 0.158 - ETA: 7:20 - loss: 0.164 - ETA: 7:11 - loss: 0.162 - ETA: 7:02 - loss: 0.166 - ETA: 6:53 - loss: 0.164 - ETA: 6:44 - loss: 0.172 - ETA: 6:36 - loss: 0.171 - ETA: 6:28 - loss: 0.170 - ETA: 6:21 - loss: 0.168 - ETA: 6:13 - loss: 0.167 - ETA: 6:05 - loss: 0.169 - ETA: 5:58 - loss: 0.169 - ETA: 5:50 - loss: 0.168 - ETA: 5:43 - loss: 0.168 - ETA: 5:36 - loss: 0.168 - ETA: 5:29 - loss: 0.166 - ETA: 5:23 - loss: 0.166 - ETA: 5:17 - loss: 0.170 - ETA: 5:12 - loss: 0.171 - ETA: 5:07 - loss: 0.172 - ETA: 5:02 - loss: 0.170 - ETA: 4:56 - loss: 0.172 - ETA: 4:50 - loss: 0.171 - ETA: 4:44 - loss: 0.171 - ETA: 4:38 - loss: 0.171 - ETA: 4:32 - loss: 0.174 - ETA: 4:25 - loss: 0.173 - ETA: 4:18 - loss: 0.173 - ETA: 4:11 - loss: 0.172 - ETA: 4:04 - loss: 0.172 - ETA: 3:58 - loss: 0.172 - ETA: 3:51 - loss: 0.170 - ETA: 3:44 - loss: 0.173 - ETA: 3:37 - loss: 0.173 - ETA: 3:30 - loss: 0.173 - ETA: 3:23 - loss: 0.175 - ETA: 3:15 - loss: 0.176 - ETA: 3:07 - loss: 0.175 - ETA: 3:00 - loss: 0.173 - ETA: 2:52 - loss: 0.173 - ETA: 2:45 - loss: 0.174 - ETA: 2:37 - loss: 0.173 - ETA: 2:30 - loss: 0.173 - ETA: 2:23 - loss: 0.172 - ETA: 2:16 - loss: 0.172 - ETA: 2:08 - loss: 0.173 - ETA: 2:01 - loss: 0.173 - ETA: 1:53 - loss: 0.172 - ETA: 1:46 - loss: 0.172 - ETA: 1:38 - loss: 0.171 - ETA: 1:31 - loss: 0.170 - ETA: 1:23 - loss: 0.169 - ETA: 1:15 - loss: 0.169 - ETA: 1:08 - loss: 0.169 - ETA: 1:00 - loss: 0.168 - ETA: 52s - loss: 0.168 - ETA: 45s - loss: 0.16 - ETA: 37s - loss: 0.16 - ETA: 30s - loss: 0.16 - ETA: 22s - loss: 0.16 - ETA: 15s - loss: 0.16 - ETA: 7s - loss: 0.1706 - 645s 81ms/step - loss: 0.1715 - val_loss: 0.1474\n",
      "Epoch 5/5\n",
      "8000/8000 [==============================] - ETA: 9:23 - loss: 0.119 - ETA: 9:11 - loss: 0.139 - ETA: 9:11 - loss: 0.135 - ETA: 9:30 - loss: 0.126 - ETA: 9:49 - loss: 0.123 - ETA: 10:03 - loss: 0.13 - ETA: 10:02 - loss: 0.13 - ETA: 9:59 - loss: 0.1392 - ETA: 10:09 - loss: 0.13 - ETA: 10:15 - loss: 0.13 - ETA: 10:09 - loss: 0.13 - ETA: 9:53 - loss: 0.1298 - ETA: 9:37 - loss: 0.138 - ETA: 9:29 - loss: 0.142 - ETA: 9:16 - loss: 0.140 - ETA: 9:04 - loss: 0.141 - ETA: 8:53 - loss: 0.139 - ETA: 8:41 - loss: 0.139 - ETA: 8:34 - loss: 0.141 - ETA: 8:28 - loss: 0.146 - ETA: 8:22 - loss: 0.146 - ETA: 8:15 - loss: 0.145 - ETA: 8:06 - loss: 0.143 - ETA: 8:00 - loss: 0.149 - ETA: 7:55 - loss: 0.153 - ETA: 7:49 - loss: 0.153 - ETA: 7:43 - loss: 0.154 - ETA: 7:37 - loss: 0.154 - ETA: 7:31 - loss: 0.154 - ETA: 7:24 - loss: 0.154 - ETA: 7:17 - loss: 0.153 - ETA: 7:11 - loss: 0.153 - ETA: 7:03 - loss: 0.156 - ETA: 6:56 - loss: 0.156 - ETA: 6:49 - loss: 0.155 - ETA: 6:41 - loss: 0.158 - ETA: 6:33 - loss: 0.156 - ETA: 6:26 - loss: 0.159 - ETA: 6:17 - loss: 0.160 - ETA: 6:08 - loss: 0.158 - ETA: 5:59 - loss: 0.159 - ETA: 5:50 - loss: 0.161 - ETA: 5:41 - loss: 0.162 - ETA: 5:32 - loss: 0.166 - ETA: 5:24 - loss: 0.165 - ETA: 5:14 - loss: 0.164 - ETA: 5:05 - loss: 0.165 - ETA: 4:56 - loss: 0.164 - ETA: 4:47 - loss: 0.164 - ETA: 4:39 - loss: 0.164 - ETA: 4:30 - loss: 0.166 - ETA: 4:21 - loss: 0.166 - ETA: 4:11 - loss: 0.167 - ETA: 4:00 - loss: 0.167 - ETA: 3:51 - loss: 0.168 - ETA: 3:43 - loss: 0.169 - ETA: 3:35 - loss: 0.169 - ETA: 3:26 - loss: 0.168 - ETA: 3:17 - loss: 0.167 - ETA: 3:07 - loss: 0.165 - ETA: 2:58 - loss: 0.165 - ETA: 2:49 - loss: 0.165 - ETA: 2:40 - loss: 0.165 - ETA: 2:30 - loss: 0.165 - ETA: 2:21 - loss: 0.165 - ETA: 2:12 - loss: 0.164 - ETA: 2:03 - loss: 0.165 - ETA: 1:53 - loss: 0.164 - ETA: 1:44 - loss: 0.164 - ETA: 1:35 - loss: 0.163 - ETA: 1:25 - loss: 0.165 - ETA: 1:16 - loss: 0.165 - ETA: 1:06 - loss: 0.165 - ETA: 57s - loss: 0.165 - ETA: 47s - loss: 0.16 - ETA: 38s - loss: 0.16 - ETA: 28s - loss: 0.16 - ETA: 19s - loss: 0.16 - ETA: 9s - loss: 0.1638 - 822s 103ms/step - loss: 0.1632 - val_loss: 0.1432\n"
     ]
    },
    {
     "data": {
      "text/plain": [
       "<keras.callbacks.History at 0x2451bc8af98>"
      ]
     },
     "execution_count": 48,
     "metadata": {},
     "output_type": "execute_result"
    }
   ],
   "source": [
    "es=EarlyStopping(monitor='val_loss', min_delta=0, patience=2, verbose=0, mode='auto', baseline=None, restore_best_weights=True)\n",
    "model.fit(train_x,train_y,validation_data=[test_x,test_y],epochs=5,batch_size=100,callbacks=[es])"
   ]
  },
  {
   "cell_type": "markdown",
   "metadata": {},
   "source": [
    "#### Epoch 6 to 10:"
   ]
  },
  {
   "cell_type": "code",
   "execution_count": 60,
   "metadata": {},
   "outputs": [
    {
     "name": "stdout",
     "output_type": "stream",
     "text": [
      "Train on 8000 samples, validate on 2000 samples\n",
      "Epoch 1/5\n",
      "8000/8000 [==============================] - ETA: 12:46 - loss: 0.22 - ETA: 11:44 - loss: 0.18 - ETA: 11:32 - loss: 0.16 - ETA: 11:34 - loss: 0.15 - ETA: 11:15 - loss: 0.14 - ETA: 10:58 - loss: 0.15 - ETA: 10:43 - loss: 0.15 - ETA: 10:30 - loss: 0.16 - ETA: 10:18 - loss: 0.17 - ETA: 10:08 - loss: 0.17 - ETA: 9:58 - loss: 0.1729 - ETA: 9:47 - loss: 0.166 - ETA: 9:37 - loss: 0.163 - ETA: 9:27 - loss: 0.159 - ETA: 9:18 - loss: 0.159 - ETA: 9:08 - loss: 0.158 - ETA: 8:59 - loss: 0.155 - ETA: 8:50 - loss: 0.153 - ETA: 8:40 - loss: 0.160 - ETA: 8:32 - loss: 0.162 - ETA: 8:25 - loss: 0.165 - ETA: 8:15 - loss: 0.165 - ETA: 8:07 - loss: 0.166 - ETA: 7:58 - loss: 0.164 - ETA: 7:49 - loss: 0.162 - ETA: 7:40 - loss: 0.158 - ETA: 7:33 - loss: 0.156 - ETA: 7:24 - loss: 0.155 - ETA: 7:16 - loss: 0.154 - ETA: 7:08 - loss: 0.154 - ETA: 6:59 - loss: 0.155 - ETA: 6:51 - loss: 0.157 - ETA: 6:43 - loss: 0.158 - ETA: 6:35 - loss: 0.160 - ETA: 6:27 - loss: 0.159 - ETA: 6:18 - loss: 0.157 - ETA: 6:10 - loss: 0.159 - ETA: 6:02 - loss: 0.157 - ETA: 5:53 - loss: 0.158 - ETA: 5:44 - loss: 0.156 - ETA: 5:35 - loss: 0.157 - ETA: 5:27 - loss: 0.157 - ETA: 5:18 - loss: 0.155 - ETA: 5:10 - loss: 0.155 - ETA: 5:01 - loss: 0.157 - ETA: 4:53 - loss: 0.156 - ETA: 4:44 - loss: 0.155 - ETA: 4:35 - loss: 0.155 - ETA: 4:27 - loss: 0.153 - ETA: 4:18 - loss: 0.153 - ETA: 4:09 - loss: 0.153 - ETA: 4:01 - loss: 0.155 - ETA: 3:53 - loss: 0.156 - ETA: 3:45 - loss: 0.157 - ETA: 3:36 - loss: 0.155 - ETA: 3:27 - loss: 0.155 - ETA: 3:19 - loss: 0.157 - ETA: 3:10 - loss: 0.157 - ETA: 3:02 - loss: 0.159 - ETA: 2:53 - loss: 0.158 - ETA: 2:44 - loss: 0.157 - ETA: 2:36 - loss: 0.157 - ETA: 2:27 - loss: 0.157 - ETA: 2:18 - loss: 0.158 - ETA: 2:10 - loss: 0.158 - ETA: 2:01 - loss: 0.156 - ETA: 1:52 - loss: 0.157 - ETA: 1:43 - loss: 0.156 - ETA: 1:35 - loss: 0.157 - ETA: 1:26 - loss: 0.157 - ETA: 1:17 - loss: 0.158 - ETA: 1:09 - loss: 0.157 - ETA: 1:00 - loss: 0.156 - ETA: 51s - loss: 0.157 - ETA: 43s - loss: 0.15 - ETA: 34s - loss: 0.15 - ETA: 25s - loss: 0.15 - ETA: 17s - loss: 0.15 - ETA: 8s - loss: 0.1568 - 742s 93ms/step - loss: 0.1577 - val_loss: 0.1368\n",
      "Epoch 2/5\n",
      "8000/8000 [==============================] - ETA: 11:28 - loss: 0.13 - ETA: 11:48 - loss: 0.14 - ETA: 11:36 - loss: 0.14 - ETA: 11:22 - loss: 0.13 - ETA: 11:23 - loss: 0.12 - ETA: 11:12 - loss: 0.12 - ETA: 10:50 - loss: 0.12 - ETA: 10:30 - loss: 0.13 - ETA: 10:15 - loss: 0.14 - ETA: 10:04 - loss: 0.14 - ETA: 9:51 - loss: 0.1409 - ETA: 9:48 - loss: 0.139 - ETA: 9:42 - loss: 0.144 - ETA: 9:35 - loss: 0.139 - ETA: 9:27 - loss: 0.140 - ETA: 9:20 - loss: 0.141 - ETA: 9:10 - loss: 0.143 - ETA: 8:59 - loss: 0.148 - ETA: 8:48 - loss: 0.150 - ETA: 8:38 - loss: 0.150 - ETA: 8:29 - loss: 0.151 - ETA: 8:18 - loss: 0.149 - ETA: 8:08 - loss: 0.153 - ETA: 7:59 - loss: 0.151 - ETA: 7:50 - loss: 0.151 - ETA: 7:43 - loss: 0.151 - ETA: 7:34 - loss: 0.151 - ETA: 7:25 - loss: 0.154 - ETA: 7:15 - loss: 0.156 - ETA: 7:05 - loss: 0.154 - ETA: 6:58 - loss: 0.156 - ETA: 6:49 - loss: 0.156 - ETA: 6:42 - loss: 0.158 - ETA: 6:33 - loss: 0.161 - ETA: 6:24 - loss: 0.163 - ETA: 6:16 - loss: 0.162 - ETA: 6:08 - loss: 0.160 - ETA: 6:00 - loss: 0.159 - ETA: 5:51 - loss: 0.159 - ETA: 5:42 - loss: 0.158 - ETA: 5:34 - loss: 0.159 - ETA: 5:26 - loss: 0.159 - ETA: 5:17 - loss: 0.157 - ETA: 5:09 - loss: 0.157 - ETA: 5:01 - loss: 0.158 - ETA: 4:52 - loss: 0.158 - ETA: 4:43 - loss: 0.158 - ETA: 4:34 - loss: 0.159 - ETA: 4:26 - loss: 0.159 - ETA: 4:17 - loss: 0.159 - ETA: 4:09 - loss: 0.161 - ETA: 4:00 - loss: 0.160 - ETA: 3:51 - loss: 0.159 - ETA: 3:42 - loss: 0.159 - ETA: 3:33 - loss: 0.159 - ETA: 3:25 - loss: 0.158 - ETA: 3:17 - loss: 0.158 - ETA: 3:09 - loss: 0.158 - ETA: 3:00 - loss: 0.158 - ETA: 2:52 - loss: 0.157 - ETA: 2:43 - loss: 0.156 - ETA: 2:34 - loss: 0.156 - ETA: 2:25 - loss: 0.156 - ETA: 2:17 - loss: 0.157 - ETA: 2:09 - loss: 0.156 - ETA: 2:00 - loss: 0.156 - ETA: 1:52 - loss: 0.155 - ETA: 1:43 - loss: 0.154 - ETA: 1:34 - loss: 0.153 - ETA: 1:26 - loss: 0.153 - ETA: 1:17 - loss: 0.153 - ETA: 1:09 - loss: 0.154 - ETA: 1:00 - loss: 0.154 - ETA: 51s - loss: 0.153 - ETA: 43s - loss: 0.15 - ETA: 34s - loss: 0.15 - ETA: 25s - loss: 0.15 - ETA: 17s - loss: 0.15 - ETA: 8s - loss: 0.1548 - 748s 93ms/step - loss: 0.1549 - val_loss: 0.1516\n",
      "Epoch 3/5\n",
      "8000/8000 [==============================] - ETA: 12:07 - loss: 0.13 - ETA: 12:00 - loss: 0.12 - ETA: 11:29 - loss: 0.13 - ETA: 11:22 - loss: 0.14 - ETA: 11:13 - loss: 0.13 - ETA: 10:52 - loss: 0.13 - ETA: 10:40 - loss: 0.13 - ETA: 10:37 - loss: 0.15 - ETA: 10:30 - loss: 0.16 - ETA: 10:24 - loss: 0.16 - ETA: 10:14 - loss: 0.16 - ETA: 10:01 - loss: 0.16 - ETA: 9:45 - loss: 0.1603 - ETA: 9:33 - loss: 0.159 - ETA: 9:21 - loss: 0.158 - ETA: 9:11 - loss: 0.158 - ETA: 9:00 - loss: 0.158 - ETA: 8:52 - loss: 0.157 - ETA: 8:41 - loss: 0.158 - ETA: 8:30 - loss: 0.154 - ETA: 8:19 - loss: 0.154 - ETA: 8:09 - loss: 0.154 - ETA: 7:59 - loss: 0.154 - ETA: 7:49 - loss: 0.152 - ETA: 7:39 - loss: 0.151 - ETA: 7:29 - loss: 0.154 - ETA: 7:19 - loss: 0.155 - ETA: 7:10 - loss: 0.153 - ETA: 7:01 - loss: 0.152 - ETA: 6:51 - loss: 0.153 - ETA: 6:42 - loss: 0.151 - ETA: 6:33 - loss: 0.151 - ETA: 6:24 - loss: 0.152 - ETA: 6:15 - loss: 0.151 - ETA: 6:07 - loss: 0.153 - ETA: 5:58 - loss: 0.153 - ETA: 5:50 - loss: 0.151 - ETA: 5:41 - loss: 0.150 - ETA: 5:33 - loss: 0.150 - ETA: 5:24 - loss: 0.149 - ETA: 5:15 - loss: 0.147 - ETA: 5:07 - loss: 0.152 - ETA: 4:59 - loss: 0.152 - ETA: 4:50 - loss: 0.151 - ETA: 4:42 - loss: 0.153 - ETA: 4:33 - loss: 0.152 - ETA: 4:25 - loss: 0.150 - ETA: 4:17 - loss: 0.150 - ETA: 4:09 - loss: 0.149 - ETA: 4:00 - loss: 0.149 - ETA: 3:52 - loss: 0.149 - ETA: 3:44 - loss: 0.148 - ETA: 3:36 - loss: 0.147 - ETA: 3:28 - loss: 0.146 - ETA: 3:20 - loss: 0.146 - ETA: 3:12 - loss: 0.146 - ETA: 3:04 - loss: 0.147 - ETA: 2:55 - loss: 0.147 - ETA: 2:47 - loss: 0.146 - ETA: 2:39 - loss: 0.147 - ETA: 2:31 - loss: 0.147 - ETA: 2:23 - loss: 0.147 - ETA: 2:15 - loss: 0.146 - ETA: 2:07 - loss: 0.146 - ETA: 1:59 - loss: 0.146 - ETA: 1:51 - loss: 0.144 - ETA: 1:43 - loss: 0.145 - ETA: 1:35 - loss: 0.146 - ETA: 1:27 - loss: 0.145 - ETA: 1:19 - loss: 0.146 - ETA: 1:11 - loss: 0.146 - ETA: 1:03 - loss: 0.147 - ETA: 55s - loss: 0.147 - ETA: 47s - loss: 0.14 - ETA: 39s - loss: 0.14 - ETA: 31s - loss: 0.14 - ETA: 23s - loss: 0.14 - ETA: 15s - loss: 0.14 - ETA: 7s - loss: 0.1482 - 681s 85ms/step - loss: 0.1484 - val_loss: 0.1282\n",
      "Epoch 4/5\n",
      "8000/8000 [==============================] - ETA: 10:02 - loss: 0.11 - ETA: 9:53 - loss: 0.1183 - ETA: 9:46 - loss: 0.120 - ETA: 9:39 - loss: 0.170 - ETA: 9:36 - loss: 0.154 - ETA: 9:33 - loss: 0.143 - ETA: 9:26 - loss: 0.144 - ETA: 9:16 - loss: 0.144 - ETA: 9:07 - loss: 0.138 - ETA: 8:59 - loss: 0.140 - ETA: 8:51 - loss: 0.143 - ETA: 8:43 - loss: 0.149 - ETA: 8:34 - loss: 0.151 - ETA: 8:26 - loss: 0.148 - ETA: 8:18 - loss: 0.149 - ETA: 8:10 - loss: 0.147 - ETA: 8:02 - loss: 0.144 - ETA: 7:55 - loss: 0.143 - ETA: 7:47 - loss: 0.143 - ETA: 7:39 - loss: 0.143 - ETA: 7:31 - loss: 0.145 - ETA: 7:24 - loss: 0.145 - ETA: 7:17 - loss: 0.146 - ETA: 7:10 - loss: 0.149 - ETA: 7:02 - loss: 0.149 - ETA: 6:55 - loss: 0.152 - ETA: 6:51 - loss: 0.154 - ETA: 6:45 - loss: 0.154 - ETA: 6:38 - loss: 0.153 - ETA: 6:32 - loss: 0.153 - ETA: 6:27 - loss: 0.152 - ETA: 6:22 - loss: 0.151 - ETA: 6:14 - loss: 0.149 - ETA: 6:07 - loss: 0.148 - ETA: 6:02 - loss: 0.147 - ETA: 5:55 - loss: 0.147 - ETA: 5:49 - loss: 0.147 - ETA: 5:43 - loss: 0.146 - ETA: 5:37 - loss: 0.146 - ETA: 5:31 - loss: 0.145 - ETA: 5:24 - loss: 0.146 - ETA: 5:17 - loss: 0.147 - ETA: 5:10 - loss: 0.147 - ETA: 5:02 - loss: 0.149 - ETA: 4:55 - loss: 0.149 - ETA: 4:48 - loss: 0.148 - ETA: 4:40 - loss: 0.149 - ETA: 4:32 - loss: 0.149 - ETA: 4:24 - loss: 0.149 - ETA: 4:17 - loss: 0.148 - ETA: 4:09 - loss: 0.148 - ETA: 4:02 - loss: 0.148 - ETA: 3:54 - loss: 0.148 - ETA: 3:46 - loss: 0.147 - ETA: 3:38 - loss: 0.147 - ETA: 3:30 - loss: 0.146 - ETA: 3:21 - loss: 0.146 - ETA: 3:13 - loss: 0.147 - ETA: 3:05 - loss: 0.147 - ETA: 2:56 - loss: 0.147 - ETA: 2:48 - loss: 0.147 - ETA: 2:40 - loss: 0.147 - ETA: 2:31 - loss: 0.145 - ETA: 2:23 - loss: 0.145 - ETA: 2:14 - loss: 0.145 - ETA: 2:05 - loss: 0.146 - ETA: 1:57 - loss: 0.146 - ETA: 1:48 - loss: 0.146 - ETA: 1:39 - loss: 0.146 - ETA: 1:30 - loss: 0.146 - ETA: 1:21 - loss: 0.145 - ETA: 1:12 - loss: 0.144 - ETA: 1:03 - loss: 0.143 - ETA: 54s - loss: 0.144 - ETA: 45s - loss: 0.14 - ETA: 36s - loss: 0.14 - ETA: 27s - loss: 0.14 - ETA: 18s - loss: 0.14 - ETA: 9s - loss: 0.1486 - 804s 101ms/step - loss: 0.1486 - val_loss: 0.1365\n",
      "Epoch 5/5\n",
      "8000/8000 [==============================] - ETA: 12:52 - loss: 0.18 - ETA: 13:12 - loss: 0.13 - ETA: 12:41 - loss: 0.13 - ETA: 12:24 - loss: 0.13 - ETA: 12:14 - loss: 0.12 - ETA: 12:01 - loss: 0.13 - ETA: 11:47 - loss: 0.13 - ETA: 11:33 - loss: 0.14 - ETA: 11:23 - loss: 0.14 - ETA: 11:12 - loss: 0.14 - ETA: 11:01 - loss: 0.14 - ETA: 10:52 - loss: 0.15 - ETA: 10:42 - loss: 0.15 - ETA: 10:33 - loss: 0.15 - ETA: 10:23 - loss: 0.15 - ETA: 10:12 - loss: 0.15 - ETA: 10:03 - loss: 0.15 - ETA: 9:53 - loss: 0.1554 - ETA: 9:45 - loss: 0.159 - ETA: 9:40 - loss: 0.159 - ETA: 9:34 - loss: 0.159 - ETA: 9:26 - loss: 0.157 - ETA: 9:15 - loss: 0.159 - ETA: 9:05 - loss: 0.157 - ETA: 8:56 - loss: 0.154 - ETA: 8:48 - loss: 0.154 - ETA: 8:38 - loss: 0.152 - ETA: 8:28 - loss: 0.150 - ETA: 8:18 - loss: 0.149 - ETA: 8:08 - loss: 0.146 - ETA: 7:58 - loss: 0.145 - ETA: 7:48 - loss: 0.144 - ETA: 7:38 - loss: 0.147 - ETA: 7:30 - loss: 0.147 - ETA: 7:24 - loss: 0.148 - ETA: 7:16 - loss: 0.147 - ETA: 7:08 - loss: 0.146 - ETA: 7:00 - loss: 0.148 - ETA: 6:50 - loss: 0.146 - ETA: 6:39 - loss: 0.148 - ETA: 6:29 - loss: 0.146 - ETA: 6:18 - loss: 0.146 - ETA: 6:07 - loss: 0.147 - ETA: 5:58 - loss: 0.146 - ETA: 5:49 - loss: 0.144 - ETA: 5:41 - loss: 0.145 - ETA: 5:31 - loss: 0.144 - ETA: 5:22 - loss: 0.145 - ETA: 5:12 - loss: 0.145 - ETA: 5:01 - loss: 0.147 - ETA: 4:51 - loss: 0.146 - ETA: 4:41 - loss: 0.145 - ETA: 4:32 - loss: 0.146 - ETA: 4:22 - loss: 0.146 - ETA: 4:12 - loss: 0.146 - ETA: 4:02 - loss: 0.145 - ETA: 3:52 - loss: 0.144 - ETA: 3:42 - loss: 0.144 - ETA: 3:32 - loss: 0.145 - ETA: 3:22 - loss: 0.145 - ETA: 3:12 - loss: 0.143 - ETA: 3:02 - loss: 0.144 - ETA: 2:51 - loss: 0.144 - ETA: 2:41 - loss: 0.146 - ETA: 2:30 - loss: 0.145 - ETA: 2:19 - loss: 0.145 - ETA: 2:09 - loss: 0.144 - ETA: 1:59 - loss: 0.143 - ETA: 1:48 - loss: 0.143 - ETA: 1:38 - loss: 0.143 - ETA: 1:28 - loss: 0.144 - ETA: 1:18 - loss: 0.142 - ETA: 1:08 - loss: 0.143 - ETA: 58s - loss: 0.143 - ETA: 48s - loss: 0.14 - ETA: 38s - loss: 0.14 - ETA: 29s - loss: 0.14 - ETA: 19s - loss: 0.14 - ETA: 9s - loss: 0.1428 - 814s 102ms/step - loss: 0.1422 - val_loss: 0.1314\n"
     ]
    },
    {
     "data": {
      "text/plain": [
       "<keras.callbacks.History at 0x244e8d774a8>"
      ]
     },
     "execution_count": 60,
     "metadata": {},
     "output_type": "execute_result"
    }
   ],
   "source": [
    "es=EarlyStopping(monitor='val_loss', min_delta=0, patience=2, verbose=0, mode='auto', baseline=None, restore_best_weights=True)\n",
    "model.fit(train_x,train_y,validation_data=[test_x,test_y],epochs=5,batch_size=100,callbacks=[es])"
   ]
  },
  {
   "cell_type": "markdown",
   "metadata": {},
   "source": [
    "#### Evaluate loss:"
   ]
  },
  {
   "cell_type": "code",
   "execution_count": 15,
   "metadata": {},
   "outputs": [
    {
     "name": "stdout",
     "output_type": "stream",
     "text": [
      "2000/2000 [==============================] - ETA: 3: - ETA: 2: - ETA: 1: - ETA: 1: - ETA: 1: - ETA: 1: - ETA: 56s - ETA: 52 - ETA: 49 - ETA: 46 - ETA: 44 - ETA: 42 - ETA: 40 - ETA: 39 - ETA: 37 - ETA: 36 - ETA: 35 - ETA: 34 - ETA: 32 - ETA: 31 - ETA: 30 - ETA: 30 - ETA: 29 - ETA: 28 - ETA: 27 - ETA: 26 - ETA: 25 - ETA: 24 - ETA: 23 - ETA: 23 - ETA: 22 - ETA: 21 - ETA: 20 - ETA: 20 - ETA: 19 - ETA: 18 - ETA: 17 - ETA: 17 - ETA: 16 - ETA: 15 - ETA: 15 - ETA: 14 - ETA: 13 - ETA: 12 - ETA: 12 - ETA: 11 - ETA: 10 - ETA: 9 - ETA:  - ETA:  - ETA:  - ETA:  - ETA:  - ETA:  - ETA:  - ETA:  - ETA:  - ETA:  - ETA:  - ETA:  - ETA:  - ETA:  - 43s 21ms/step\n"
     ]
    },
    {
     "data": {
      "text/plain": [
       "0.14316689416766168"
      ]
     },
     "execution_count": 15,
     "metadata": {},
     "output_type": "execute_result"
    }
   ],
   "source": [
    "# Evaluation loss\n",
    "model.evaluate(test_x,test_y)"
   ]
  },
  {
   "cell_type": "markdown",
   "metadata": {},
   "source": [
    "#### Evaluate Predicted Values:"
   ]
  },
  {
   "cell_type": "code",
   "execution_count": 72,
   "metadata": {},
   "outputs": [
    {
     "name": "stdout",
     "output_type": "stream",
     "text": [
      "Predicted: 0.14099488 Actual: 0.1706932\n",
      "Predicted: 0.03689584 Actual: -0.1425934\n",
      "Predicted: 0.11584562 Actual: 0.31503192\n",
      "Predicted: -0.030835485 Actual: -0.010646508\n",
      "Predicted: -0.0034901632 Actual: 0.38362336\n",
      "Predicted: -0.17210875 Actual: -0.087964594\n",
      "Predicted: 0.27801698 Actual: 0.03874631\n",
      "Predicted: 0.17287785 Actual: 0.07574729\n",
      "Predicted: 0.32338747 Actual: -0.0052359877\n",
      "Predicted: 0.06406954 Actual: 0.21816616\n",
      "Predicted: -0.16901803 Actual: -0.07749262\n",
      "Predicted: 0.05489731 Actual: 0.20769419\n",
      "Predicted: 0.009950997 Actual: 0.10035643\n",
      "Predicted: -0.13463046 Actual: -0.03700098\n",
      "Predicted: 0.14824441 Actual: 0.14433873\n",
      "Predicted: 0.08418703 Actual: 0.0\n",
      "Predicted: -0.15607047 Actual: -0.006981317\n",
      "Predicted: 0.15003757 Actual: 0.14433873\n",
      "Predicted: 0.2689249 Actual: -0.028099801\n",
      "Predicted: -0.017937494 Actual: 0.03176499\n"
     ]
    }
   ],
   "source": [
    "# checking predicted values\n",
    "for i in range(20):\n",
    "    print('Predicted:',y_pred[i][0],'Actual:',test_y[i])"
   ]
  },
  {
   "cell_type": "code",
   "execution_count": 24,
   "metadata": {},
   "outputs": [
    {
     "name": "stdout",
     "output_type": "stream",
     "text": [
      "\n"
     ]
    }
   ],
   "source": [
    "# utility to visualize model performance\n",
    "import tensorflow as tf\n",
    "import scipy.misc\n",
    "import cv2\n",
    "from subprocess import call\n",
    "import math\n",
    "import time\n",
    "print('Recording will start after 10s..')\n",
    "time.sleep(10)\n",
    "print('Recording started..')\n",
    "img = cv2.imread('steering_wheel_image.jpg',0)\n",
    "rows,cols = img.shape\n",
    "smoothed_angle = 0\n",
    "xs = []\n",
    "ys = []\n",
    "with open(\"driving_dataset/data.txt\") as f:\n",
    "    for line in f:\n",
    "        xs.append(\"driving_dataset/\" + line.split()[0])\n",
    "        ys.append(float(line.split()[1]) * scipy.pi / 180)\n",
    "\n",
    "num_images = len(xs)\n",
    "i = math.ceil(num_images*0.8)\n",
    "for file in xs:\n",
    "    full_image = cv2.imread(file) \n",
    "    image = cv2.resize(full_image,(200,66))\n",
    "    image=np.reshape(image, (-1, 66, 200, 3))\n",
    "    degrees = float(model.predict(image,batch_size=1)) * 180.0 / scipy.pi\n",
    "    cv2.imshow(\"frame\", cv2.cvtColor(full_image, cv2.COLOR_RGB2BGR))\n",
    "    smoothed_angle += 0.2 * pow(abs((degrees - smoothed_angle)), 2.0 / 3.0) * (degrees - smoothed_angle) / abs(degrees - smoothed_angle)\n",
    "    M = cv2.getRotationMatrix2D((cols/2,rows/2),-smoothed_angle,1)\n",
    "    dst = cv2.warpAffine(img,M,(cols,rows))\n",
    "    cv2.imshow(\"steering wheel\", dst)\n",
    "    i += 1\n",
    "    cv2.waitKey(10)\n",
    "cv2.destroyAllWindows()\n"
   ]
  }
 ],
 "metadata": {
  "kernelspec": {
   "display_name": "Python 3",
   "language": "python",
   "name": "python3"
  },
  "language_info": {
   "codemirror_mode": {
    "name": "ipython",
    "version": 3
   },
   "file_extension": ".py",
   "mimetype": "text/x-python",
   "name": "python",
   "nbconvert_exporter": "python",
   "pygments_lexer": "ipython3",
   "version": "3.6.5"
  }
 },
 "nbformat": 4,
 "nbformat_minor": 2
}
